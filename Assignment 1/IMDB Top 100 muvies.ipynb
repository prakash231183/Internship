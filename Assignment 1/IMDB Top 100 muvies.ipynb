{
 "cells": [
  {
   "cell_type": "markdown",
   "id": "98d83997",
   "metadata": {},
   "source": [
    "###  Write a python program to display IMDB’s Top rated 100 movies’ data (i.e. name, rating, year of release)\n",
    "###  and make data frame."
   ]
  },
  {
   "cell_type": "markdown",
   "id": "79a8e49c",
   "metadata": {},
   "source": [
    "### (Question no 2 and 3 are same )"
   ]
  },
  {
   "cell_type": "code",
   "execution_count": 1,
   "id": "2e32c2ab",
   "metadata": {},
   "outputs": [],
   "source": [
    "# importing important libraries \n",
    "from bs4 import BeautifulSoup\n",
    "import requests\n",
    "import pandas as pd"
   ]
  },
  {
   "cell_type": "code",
   "execution_count": 2,
   "id": "4ee92172",
   "metadata": {},
   "outputs": [
    {
     "data": {
      "text/plain": [
       "<Response [200]>"
      ]
     },
     "execution_count": 2,
     "metadata": {},
     "output_type": "execute_result"
    }
   ],
   "source": [
    "page=requests.get('https://www.imdb.com/chart/top/')\n",
    "page"
   ]
  },
  {
   "cell_type": "code",
   "execution_count": 3,
   "id": "d5a02d8b",
   "metadata": {},
   "outputs": [
    {
     "name": "stdout",
     "output_type": "stream",
     "text": [
      "100\n"
     ]
    }
   ],
   "source": [
    "# extracting all the title of the muvies and checking the length\n",
    "\n",
    "soup=BeautifulSoup(page.content)\n",
    "titles=[]\n",
    "\n",
    "for i in soup.find_all('td',class_=\"titleColumn\"):\n",
    "    titles.append(i.text.split(\"\\n\")[2])\n",
    "    \n",
    "titles\n",
    "new_titles=titles[:100]\n",
    "\n",
    "new_titles\n",
    "print(len(new_titles))"
   ]
  },
  {
   "cell_type": "code",
   "execution_count": 4,
   "id": "bc3ef91a",
   "metadata": {},
   "outputs": [
    {
     "name": "stdout",
     "output_type": "stream",
     "text": [
      "100\n"
     ]
    }
   ],
   "source": [
    "# extracting all the rating of the muvies and checking the length\n",
    "rating=[]\n",
    "for i in soup.find_all('td',class_=\"ratingColumn imdbRating\"):\n",
    "    rating.append(i.text.split(\"\\n\")[1])\n",
    "rating\n",
    "new_rating=rating[:100]\n",
    "print(len(new_rating))"
   ]
  },
  {
   "cell_type": "code",
   "execution_count": 5,
   "id": "22ade9c7",
   "metadata": {},
   "outputs": [
    {
     "name": "stdout",
     "output_type": "stream",
     "text": [
      "100\n"
     ]
    }
   ],
   "source": [
    "# extracting all the years of the muvies and checking the length\n",
    "year=[]\n",
    "for i in soup.find_all('span',class_=\"secondaryInfo\"):\n",
    "    year.append(i.text)\n",
    "year\n",
    "new_year=year[:100]\n",
    "print(len(new_year))"
   ]
  },
  {
   "cell_type": "code",
   "execution_count": 6,
   "id": "ae874055",
   "metadata": {},
   "outputs": [
    {
     "data": {
      "text/html": [
       "<div>\n",
       "<style scoped>\n",
       "    .dataframe tbody tr th:only-of-type {\n",
       "        vertical-align: middle;\n",
       "    }\n",
       "\n",
       "    .dataframe tbody tr th {\n",
       "        vertical-align: top;\n",
       "    }\n",
       "\n",
       "    .dataframe thead th {\n",
       "        text-align: right;\n",
       "    }\n",
       "</style>\n",
       "<table border=\"1\" class=\"dataframe\">\n",
       "  <thead>\n",
       "    <tr style=\"text-align: right;\">\n",
       "      <th></th>\n",
       "      <th>Titles</th>\n",
       "      <th>Year</th>\n",
       "      <th>Rating</th>\n",
       "    </tr>\n",
       "  </thead>\n",
       "  <tbody>\n",
       "    <tr>\n",
       "      <th>0</th>\n",
       "      <td>The Shawshank Redemption</td>\n",
       "      <td>(1994)</td>\n",
       "      <td>9.2</td>\n",
       "    </tr>\n",
       "    <tr>\n",
       "      <th>1</th>\n",
       "      <td>The Godfather</td>\n",
       "      <td>(1972)</td>\n",
       "      <td>9.2</td>\n",
       "    </tr>\n",
       "    <tr>\n",
       "      <th>2</th>\n",
       "      <td>The Dark Knight</td>\n",
       "      <td>(2008)</td>\n",
       "      <td>9.0</td>\n",
       "    </tr>\n",
       "    <tr>\n",
       "      <th>3</th>\n",
       "      <td>The Godfather Part II</td>\n",
       "      <td>(1974)</td>\n",
       "      <td>9.0</td>\n",
       "    </tr>\n",
       "    <tr>\n",
       "      <th>4</th>\n",
       "      <td>12 Angry Men</td>\n",
       "      <td>(1957)</td>\n",
       "      <td>9.0</td>\n",
       "    </tr>\n",
       "    <tr>\n",
       "      <th>...</th>\n",
       "      <td>...</td>\n",
       "      <td>...</td>\n",
       "      <td>...</td>\n",
       "    </tr>\n",
       "    <tr>\n",
       "      <th>95</th>\n",
       "      <td>Lawrence of Arabia</td>\n",
       "      <td>(1962)</td>\n",
       "      <td>8.3</td>\n",
       "    </tr>\n",
       "    <tr>\n",
       "      <th>96</th>\n",
       "      <td>M - Eine Stadt sucht einen Mörder</td>\n",
       "      <td>(1931)</td>\n",
       "      <td>8.3</td>\n",
       "    </tr>\n",
       "    <tr>\n",
       "      <th>97</th>\n",
       "      <td>Idi i smotri</td>\n",
       "      <td>(1985)</td>\n",
       "      <td>8.3</td>\n",
       "    </tr>\n",
       "    <tr>\n",
       "      <th>98</th>\n",
       "      <td>North by Northwest</td>\n",
       "      <td>(1959)</td>\n",
       "      <td>8.2</td>\n",
       "    </tr>\n",
       "    <tr>\n",
       "      <th>99</th>\n",
       "      <td>Vertigo</td>\n",
       "      <td>(1958)</td>\n",
       "      <td>8.2</td>\n",
       "    </tr>\n",
       "  </tbody>\n",
       "</table>\n",
       "<p>100 rows × 3 columns</p>\n",
       "</div>"
      ],
      "text/plain": [
       "                                     Titles    Year Rating\n",
       "0                  The Shawshank Redemption  (1994)    9.2\n",
       "1                             The Godfather  (1972)    9.2\n",
       "2                           The Dark Knight  (2008)    9.0\n",
       "3                     The Godfather Part II  (1974)    9.0\n",
       "4                              12 Angry Men  (1957)    9.0\n",
       "..                                      ...     ...    ...\n",
       "95                       Lawrence of Arabia  (1962)    8.3\n",
       "96        M - Eine Stadt sucht einen Mörder  (1931)    8.3\n",
       "97                             Idi i smotri  (1985)    8.3\n",
       "98                       North by Northwest  (1959)    8.2\n",
       "99                                  Vertigo  (1958)    8.2\n",
       "\n",
       "[100 rows x 3 columns]"
      ]
     },
     "execution_count": 6,
     "metadata": {},
     "output_type": "execute_result"
    }
   ],
   "source": [
    "# making data frame using pandas \n",
    "df=pd.DataFrame({'Titles' : new_titles, 'Year' : new_year, 'Rating' : new_rating})\n",
    "df"
   ]
  },
  {
   "cell_type": "code",
   "execution_count": null,
   "id": "aa69e97f",
   "metadata": {},
   "outputs": [],
   "source": []
  }
 ],
 "metadata": {
  "kernelspec": {
   "display_name": "Python 3 (ipykernel)",
   "language": "python",
   "name": "python3"
  },
  "language_info": {
   "codemirror_mode": {
    "name": "ipython",
    "version": 3
   },
   "file_extension": ".py",
   "mimetype": "text/x-python",
   "name": "python",
   "nbconvert_exporter": "python",
   "pygments_lexer": "ipython3",
   "version": "3.9.12"
  }
 },
 "nbformat": 4,
 "nbformat_minor": 5
}
