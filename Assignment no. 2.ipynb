{
 "cells": [
  {
   "cell_type": "code",
   "execution_count": 1,
   "id": "02581c77",
   "metadata": {},
   "outputs": [
    {
     "name": "stdout",
     "output_type": "stream",
     "text": [
      "Requirement already satisfied: selenium in c:\\users\\hp\\anaconda3\\lib\\site-packages (4.5.0)\n",
      "Requirement already satisfied: certifi>=2021.10.8 in c:\\users\\hp\\anaconda3\\lib\\site-packages (from selenium) (2021.10.8)\n",
      "Requirement already satisfied: trio~=0.17 in c:\\users\\hp\\anaconda3\\lib\\site-packages (from selenium) (0.22.0)\n",
      "Requirement already satisfied: urllib3[socks]~=1.26 in c:\\users\\hp\\anaconda3\\lib\\site-packages (from selenium) (1.26.9)\n",
      "Requirement already satisfied: trio-websocket~=0.9 in c:\\users\\hp\\anaconda3\\lib\\site-packages (from selenium) (0.9.2)\n",
      "Requirement already satisfied: outcome in c:\\users\\hp\\anaconda3\\lib\\site-packages (from trio~=0.17->selenium) (1.2.0)\n",
      "Requirement already satisfied: exceptiongroup>=1.0.0rc9 in c:\\users\\hp\\anaconda3\\lib\\site-packages (from trio~=0.17->selenium) (1.0.0)\n",
      "Requirement already satisfied: sortedcontainers in c:\\users\\hp\\anaconda3\\lib\\site-packages (from trio~=0.17->selenium) (2.4.0)\n",
      "Requirement already satisfied: attrs>=19.2.0 in c:\\users\\hp\\anaconda3\\lib\\site-packages (from trio~=0.17->selenium) (21.4.0)\n",
      "Requirement already satisfied: idna in c:\\users\\hp\\anaconda3\\lib\\site-packages (from trio~=0.17->selenium) (3.3)\n",
      "Requirement already satisfied: cffi>=1.14 in c:\\users\\hp\\anaconda3\\lib\\site-packages (from trio~=0.17->selenium) (1.15.0)\n",
      "Requirement already satisfied: sniffio in c:\\users\\hp\\anaconda3\\lib\\site-packages (from trio~=0.17->selenium) (1.2.0)\n",
      "Requirement already satisfied: async-generator>=1.9 in c:\\users\\hp\\anaconda3\\lib\\site-packages (from trio~=0.17->selenium) (1.10)\n",
      "Requirement already satisfied: pycparser in c:\\users\\hp\\anaconda3\\lib\\site-packages (from cffi>=1.14->trio~=0.17->selenium) (2.21)\n",
      "Requirement already satisfied: wsproto>=0.14 in c:\\users\\hp\\anaconda3\\lib\\site-packages (from trio-websocket~=0.9->selenium) (1.2.0)\n",
      "Requirement already satisfied: PySocks!=1.5.7,<2.0,>=1.5.6 in c:\\users\\hp\\anaconda3\\lib\\site-packages (from urllib3[socks]~=1.26->selenium) (1.7.1)\n",
      "Requirement already satisfied: h11<1,>=0.9.0 in c:\\users\\hp\\anaconda3\\lib\\site-packages (from wsproto>=0.14->trio-websocket~=0.9->selenium) (0.14.0)\n"
     ]
    }
   ],
   "source": [
    "# let's first install the selenium library\n",
    "! pip install selenium"
   ]
  },
  {
   "cell_type": "markdown",
   "id": "ce1187b5",
   "metadata": {},
   "source": [
    "#### Q1: Write a python program to scrape data for “Data Analyst” Job position in “Bangalore” location. You have to scrape the job-title, job-location, company_name, experience_required. You have to scrape first 10 jobs data.\n",
    "#### This task will be done in following steps:\n",
    "##### 1. First get the webpage https://www.naukri.com/\n",
    "##### 2. Enter “Data Analyst” in “Skill, Designations, Companies” field and enter “Bangalore” in “enter the\n",
    "##### location” field.\n",
    "##### 3. Then click the search button.\n",
    "##### 4. Then scrape the data for the first 10 jobs results you get.\n",
    "##### 5. Finally create a dataframe of the scraped data.\n",
    "#### Note: All of the above steps have to be done in code. No step is to be done manually."
   ]
  },
  {
   "cell_type": "markdown",
   "id": "8e1912cc",
   "metadata": {},
   "source": [
    "#### IMPORTING ALL THE NECESSARY LIBRARIES"
   ]
  },
  {
   "cell_type": "code",
   "execution_count": 2,
   "id": "c5bd9567",
   "metadata": {},
   "outputs": [],
   "source": [
    "import selenium\n",
    "import pandas as pd\n",
    "from selenium import webdriver\n",
    "from selenium.webdriver.common.by import By\n",
    "import warnings\n",
    "warnings.filterwarnings(\"ignore\")\n",
    "import time"
   ]
  },
  {
   "cell_type": "code",
   "execution_count": 3,
   "id": "b62cb04a",
   "metadata": {},
   "outputs": [],
   "source": [
    "driver = webdriver.Chrome(r\"C:\\Users\\HP\\Downloads\\chromedriver.exe\")"
   ]
  },
  {
   "cell_type": "code",
   "execution_count": 4,
   "id": "b42d03a2",
   "metadata": {},
   "outputs": [],
   "source": [
    "# applying url to the web driver\n",
    "url = \"https://www.naukri.com\"\n",
    "driver.get(url)"
   ]
  },
  {
   "cell_type": "code",
   "execution_count": 5,
   "id": "d8bc6779",
   "metadata": {},
   "outputs": [],
   "source": [
    "# Putting Data analyst in Job Position\n",
    "search_job=driver.find_element (By.CLASS_NAME,\"suggestor-input\")\n",
    "search_job.send_keys('Data Analyst')"
   ]
  },
  {
   "cell_type": "code",
   "execution_count": 6,
   "id": "449875de",
   "metadata": {},
   "outputs": [],
   "source": [
    "# Putting angalore as location\n",
    "search_loc=driver.find_element(By.XPATH,'/html/body/div[1]/div[6]/div/div/div[5]/div/div/div/input')\n",
    "search_loc.send_keys(\"Bangalore\")"
   ]
  },
  {
   "cell_type": "code",
   "execution_count": 7,
   "id": "227d408f",
   "metadata": {},
   "outputs": [],
   "source": [
    "search_btn= driver .find_element(By.CLASS_NAME,\"qsbSubmit\")\n",
    "search_btn.click()"
   ]
  },
  {
   "cell_type": "markdown",
   "id": "2899eb4d",
   "metadata": {},
   "source": [
    "#### Collecting all the data of related job_titles,company_name,experience and location . \n",
    "#### And checking the length of each of them ."
   ]
  },
  {
   "cell_type": "code",
   "execution_count": 8,
   "id": "0c7a03bb",
   "metadata": {},
   "outputs": [
    {
     "data": {
      "text/plain": [
       "20"
      ]
     },
     "execution_count": 8,
     "metadata": {},
     "output_type": "execute_result"
    }
   ],
   "source": [
    "job_titles=[]\n",
    "titles_tags= driver.find_elements(By.XPATH,\"//a[@class='title fw500 ellipsis']\")\n",
    "for i in titles_tags:\n",
    "    job_titles.append(i.text)\n",
    "    \n",
    "len(job_titles)"
   ]
  },
  {
   "cell_type": "code",
   "execution_count": 9,
   "id": "a4289d03",
   "metadata": {},
   "outputs": [
    {
     "data": {
      "text/plain": [
       "20"
      ]
     },
     "execution_count": 9,
     "metadata": {},
     "output_type": "execute_result"
    }
   ],
   "source": [
    "company_name=[]\n",
    "company_tags=driver.find_elements(By.XPATH,\"//a[@class='subTitle ellipsis fleft']\")\n",
    "\n",
    "for i in company_tags:\n",
    "    if i.text is None:\n",
    "        company_name.append('Not')\n",
    "    else:\n",
    "        company_name.append(i.text)\n",
    "len(company_name)       "
   ]
  },
  {
   "cell_type": "code",
   "execution_count": 10,
   "id": "20da1ee0",
   "metadata": {},
   "outputs": [
    {
     "data": {
      "text/plain": [
       "20"
      ]
     },
     "execution_count": 10,
     "metadata": {},
     "output_type": "execute_result"
    }
   ],
   "source": [
    "experience=[]\n",
    "exp_tags=driver.find_elements(By.XPATH,\"//li[@class='fleft grey-text br2 placeHolderLi experience']\")\n",
    "\n",
    "for i in exp_tags:\n",
    "    if i.text is None:\n",
    "        experience.append('Not')\n",
    "    else:\n",
    "        experience.append(i.text)\n",
    "len(experience)"
   ]
  },
  {
   "cell_type": "code",
   "execution_count": 11,
   "id": "b803a6f7",
   "metadata": {},
   "outputs": [
    {
     "data": {
      "text/plain": [
       "20"
      ]
     },
     "execution_count": 11,
     "metadata": {},
     "output_type": "execute_result"
    }
   ],
   "source": [
    "location=[]\n",
    "location_tags=driver.find_elements(By.XPATH,'//li[@class=\"fleft grey-text br2 placeHolderLi location\"]')\n",
    "\n",
    "for i in location_tags:\n",
    "    if i.text is None:\n",
    "        location.append('Not')\n",
    "    else:\n",
    "        location.append(i.text)\n",
    "len(location_tags)"
   ]
  },
  {
   "cell_type": "markdown",
   "id": "eb2ede2b",
   "metadata": {},
   "source": [
    "#### Making the data frame after veryfying the length"
   ]
  },
  {
   "cell_type": "code",
   "execution_count": 12,
   "id": "11f04292",
   "metadata": {},
   "outputs": [
    {
     "data": {
      "text/html": [
       "<div>\n",
       "<style scoped>\n",
       "    .dataframe tbody tr th:only-of-type {\n",
       "        vertical-align: middle;\n",
       "    }\n",
       "\n",
       "    .dataframe tbody tr th {\n",
       "        vertical-align: top;\n",
       "    }\n",
       "\n",
       "    .dataframe thead th {\n",
       "        text-align: right;\n",
       "    }\n",
       "</style>\n",
       "<table border=\"1\" class=\"dataframe\">\n",
       "  <thead>\n",
       "    <tr style=\"text-align: right;\">\n",
       "      <th></th>\n",
       "      <th>Job Title</th>\n",
       "      <th>Company</th>\n",
       "      <th>Experience</th>\n",
       "      <th>Location</th>\n",
       "    </tr>\n",
       "  </thead>\n",
       "  <tbody>\n",
       "    <tr>\n",
       "      <th>0</th>\n",
       "      <td>Senior Data Analyst - PLM Data Migration</td>\n",
       "      <td>CGI</td>\n",
       "      <td>3-6 Yrs</td>\n",
       "      <td>Bangalore/Bengaluru</td>\n",
       "    </tr>\n",
       "    <tr>\n",
       "      <th>1</th>\n",
       "      <td>Lead Data Analyst</td>\n",
       "      <td>Mobile Premier League (MPL)</td>\n",
       "      <td>4-7 Yrs</td>\n",
       "      <td>Bangalore/Bengaluru</td>\n",
       "    </tr>\n",
       "    <tr>\n",
       "      <th>2</th>\n",
       "      <td>Sr. Data Analyst (SAS Data Management)</td>\n",
       "      <td>NMS Consultant</td>\n",
       "      <td>5-10 Yrs</td>\n",
       "      <td>Bangalore/Bengaluru, New Delhi</td>\n",
       "    </tr>\n",
       "    <tr>\n",
       "      <th>3</th>\n",
       "      <td>Data Analyst</td>\n",
       "      <td>IBM</td>\n",
       "      <td>3-4 Yrs</td>\n",
       "      <td>Bangalore/Bengaluru</td>\n",
       "    </tr>\n",
       "    <tr>\n",
       "      <th>4</th>\n",
       "      <td>Data Analyst</td>\n",
       "      <td>IBM</td>\n",
       "      <td>3-4 Yrs</td>\n",
       "      <td>Bangalore/Bengaluru</td>\n",
       "    </tr>\n",
       "    <tr>\n",
       "      <th>5</th>\n",
       "      <td>Senior Data Analyst</td>\n",
       "      <td>Groundtruth</td>\n",
       "      <td>5-8 Yrs</td>\n",
       "      <td>Hybrid - Bangalore/Bengaluru, Gurgaon/Gurugram</td>\n",
       "    </tr>\n",
       "    <tr>\n",
       "      <th>6</th>\n",
       "      <td>Sr Data Analyst</td>\n",
       "      <td>Mettox Laboratries</td>\n",
       "      <td>3-8 Yrs</td>\n",
       "      <td>Bangalore/Bengaluru</td>\n",
       "    </tr>\n",
       "    <tr>\n",
       "      <th>7</th>\n",
       "      <td>Senior Analyst - Data Management</td>\n",
       "      <td>Accenture</td>\n",
       "      <td>5-8 Yrs</td>\n",
       "      <td>Bangalore/Bengaluru</td>\n",
       "    </tr>\n",
       "    <tr>\n",
       "      <th>8</th>\n",
       "      <td>Data Analyst - Python/Artificial Intelligence</td>\n",
       "      <td>iMindYourBusiness</td>\n",
       "      <td>0-2 Yrs</td>\n",
       "      <td>Bangalore/Bengaluru, Kolkata, Mumbai, Visakhap...</td>\n",
       "    </tr>\n",
       "    <tr>\n",
       "      <th>9</th>\n",
       "      <td>CONSULTANT - DATA ANALYST - CRM ERP</td>\n",
       "      <td>Pratham Books</td>\n",
       "      <td>14-20 Yrs</td>\n",
       "      <td>Bangalore/Bengaluru</td>\n",
       "    </tr>\n",
       "  </tbody>\n",
       "</table>\n",
       "</div>"
      ],
      "text/plain": [
       "                                       Job Title                      Company  \\\n",
       "0       Senior Data Analyst - PLM Data Migration                          CGI   \n",
       "1                              Lead Data Analyst  Mobile Premier League (MPL)   \n",
       "2         Sr. Data Analyst (SAS Data Management)               NMS Consultant   \n",
       "3                                   Data Analyst                          IBM   \n",
       "4                                   Data Analyst                          IBM   \n",
       "5                            Senior Data Analyst                  Groundtruth   \n",
       "6                                Sr Data Analyst           Mettox Laboratries   \n",
       "7               Senior Analyst - Data Management                    Accenture   \n",
       "8  Data Analyst - Python/Artificial Intelligence            iMindYourBusiness   \n",
       "9            CONSULTANT - DATA ANALYST - CRM ERP                Pratham Books   \n",
       "\n",
       "  Experience                                           Location  \n",
       "0    3-6 Yrs                                Bangalore/Bengaluru  \n",
       "1    4-7 Yrs                                Bangalore/Bengaluru  \n",
       "2   5-10 Yrs                     Bangalore/Bengaluru, New Delhi  \n",
       "3    3-4 Yrs                                Bangalore/Bengaluru  \n",
       "4    3-4 Yrs                                Bangalore/Bengaluru  \n",
       "5    5-8 Yrs     Hybrid - Bangalore/Bengaluru, Gurgaon/Gurugram  \n",
       "6    3-8 Yrs                                Bangalore/Bengaluru  \n",
       "7    5-8 Yrs                                Bangalore/Bengaluru  \n",
       "8    0-2 Yrs  Bangalore/Bengaluru, Kolkata, Mumbai, Visakhap...  \n",
       "9  14-20 Yrs                                Bangalore/Bengaluru  "
      ]
     },
     "execution_count": 12,
     "metadata": {},
     "output_type": "execute_result"
    }
   ],
   "source": [
    "jobs=pd.DataFrame()\n",
    "jobs['Job Title']=job_titles\n",
    "jobs['Company']=company_name\n",
    "jobs['Experience']=experience\n",
    "jobs['Location']=location\n",
    "jobs.drop(index=jobs.index[10:])"
   ]
  },
  {
   "cell_type": "code",
   "execution_count": 13,
   "id": "422a7914",
   "metadata": {},
   "outputs": [],
   "source": [
    "driver.close()"
   ]
  },
  {
   "cell_type": "code",
   "execution_count": null,
   "id": "6f62af7a",
   "metadata": {},
   "outputs": [],
   "source": []
  },
  {
   "cell_type": "markdown",
   "id": "3523280b",
   "metadata": {},
   "source": [
    "### Q2: Write a python program to scrape data for “Data Scientist” Job position in “Bangalore” location. You\n",
    "### have to scrape the job-title, job-location, company_name. You have to scrape first 10 jobs data. This task will be done in following steps:\n",
    "##### 1. First get the webpage https://www.naukri.com/\n",
    "##### 2. Enter “Data Scientist” in “Skill, Designations, Companies” field and enter “Bangalore” in “enter the\n",
    "##### location” field.\n",
    "##### 3. Then click the search button.\n",
    "##### 4. Then scrape the data for the first 10 jobs results you get.\n",
    "##### 5. Finally create a dataframe of the scraped data.\n",
    "### Note: All of the above steps have to be done in code. No step is to be done manually"
   ]
  },
  {
   "cell_type": "code",
   "execution_count": 45,
   "id": "8612ebfc",
   "metadata": {},
   "outputs": [],
   "source": [
    "driver = webdriver.Chrome(r\"C:\\Users\\HP\\Downloads\\chromedriver.exe\")"
   ]
  },
  {
   "cell_type": "code",
   "execution_count": null,
   "id": "3a82dd8a",
   "metadata": {},
   "outputs": [],
   "source": []
  },
  {
   "cell_type": "code",
   "execution_count": 46,
   "id": "913cac98",
   "metadata": {},
   "outputs": [],
   "source": [
    "#Putting url in the driver\n",
    "url = \"https://www.naukri.com\"\n",
    "driver.get(url)"
   ]
  },
  {
   "cell_type": "code",
   "execution_count": 47,
   "id": "96829857",
   "metadata": {},
   "outputs": [],
   "source": [
    "# putting Data scientist as Job title\n",
    "search_job=driver.find_element(By.CLASS_NAME,\"suggestor-input\")\n",
    "search_job.send_keys('Data Scientist')"
   ]
  },
  {
   "cell_type": "code",
   "execution_count": 48,
   "id": "9b2daa15",
   "metadata": {},
   "outputs": [],
   "source": [
    "# Putting Banglore as location \n",
    "search_loc=driver.find_element(By.XPATH,'/html/body/div[1]/div[6]/div/div/div[5]/div/div/div/input')\n",
    "search_loc.send_keys(\"Bangalore\")"
   ]
  },
  {
   "cell_type": "code",
   "execution_count": 49,
   "id": "451fe1f9",
   "metadata": {},
   "outputs": [],
   "source": [
    "search_btn= driver .find_element(By.CLASS_NAME,\"qsbSubmit\")\n",
    "search_btn.click()"
   ]
  },
  {
   "cell_type": "markdown",
   "id": "c31cd02b",
   "metadata": {},
   "source": [
    "Collecting all the data of related job_titles,company_name,experience and location .\n",
    "And checking the length of each of them ."
   ]
  },
  {
   "cell_type": "code",
   "execution_count": 50,
   "id": "416ca68a",
   "metadata": {},
   "outputs": [
    {
     "data": {
      "text/plain": [
       "20"
      ]
     },
     "execution_count": 50,
     "metadata": {},
     "output_type": "execute_result"
    }
   ],
   "source": [
    "job_titles=[]\n",
    "titles_tags= driver.find_elements(By.XPATH,\"//a[@class='title fw500 ellipsis']\")\n",
    "for i in titles_tags:\n",
    "    job_titles.append(i.text)\n",
    "    \n",
    "len(job_titles)"
   ]
  },
  {
   "cell_type": "code",
   "execution_count": 51,
   "id": "c67f4cfd",
   "metadata": {},
   "outputs": [
    {
     "data": {
      "text/plain": [
       "20"
      ]
     },
     "execution_count": 51,
     "metadata": {},
     "output_type": "execute_result"
    }
   ],
   "source": [
    "company_name=[]\n",
    "company_tags=driver.find_elements(By.XPATH,\"//a[@class='subTitle ellipsis fleft']\")\n",
    "\n",
    "for i in company_tags:\n",
    "    if i.text is None:\n",
    "        company_name.append('Not')\n",
    "    else:\n",
    "        company_name.append(i.text)\n",
    "len(company_name)       "
   ]
  },
  {
   "cell_type": "code",
   "execution_count": 52,
   "id": "73b9cb42",
   "metadata": {},
   "outputs": [
    {
     "data": {
      "text/plain": [
       "20"
      ]
     },
     "execution_count": 52,
     "metadata": {},
     "output_type": "execute_result"
    }
   ],
   "source": [
    "experience=[]\n",
    "exp_tags=driver.find_elements(By.XPATH,\"//li[@class='fleft grey-text br2 placeHolderLi experience']\")\n",
    "\n",
    "for i in exp_tags:\n",
    "    if i.text is None:\n",
    "        experience.append('Not')\n",
    "    else:\n",
    "        experience.append(i.text)\n",
    "len(experience)"
   ]
  },
  {
   "cell_type": "code",
   "execution_count": 53,
   "id": "8d2b09e6",
   "metadata": {},
   "outputs": [
    {
     "data": {
      "text/plain": [
       "20"
      ]
     },
     "execution_count": 53,
     "metadata": {},
     "output_type": "execute_result"
    }
   ],
   "source": [
    "location=[]\n",
    "location_tags=driver.find_elements(By.XPATH,'//li[@class=\"fleft grey-text br2 placeHolderLi location\"]')\n",
    "\n",
    "for i in location_tags:\n",
    "    if i.text is None:\n",
    "        location.append('Not')\n",
    "    else:\n",
    "        location.append(i.text)\n",
    "len(location_tags)"
   ]
  },
  {
   "cell_type": "markdown",
   "id": "e415904e",
   "metadata": {},
   "source": [
    "Making the Data Frame after veryfying the length "
   ]
  },
  {
   "cell_type": "code",
   "execution_count": 54,
   "id": "1d43b1ad",
   "metadata": {},
   "outputs": [
    {
     "data": {
      "text/html": [
       "<div>\n",
       "<style scoped>\n",
       "    .dataframe tbody tr th:only-of-type {\n",
       "        vertical-align: middle;\n",
       "    }\n",
       "\n",
       "    .dataframe tbody tr th {\n",
       "        vertical-align: top;\n",
       "    }\n",
       "\n",
       "    .dataframe thead th {\n",
       "        text-align: right;\n",
       "    }\n",
       "</style>\n",
       "<table border=\"1\" class=\"dataframe\">\n",
       "  <thead>\n",
       "    <tr style=\"text-align: right;\">\n",
       "      <th></th>\n",
       "      <th>Job Title</th>\n",
       "      <th>Company</th>\n",
       "      <th>Experience</th>\n",
       "      <th>Location</th>\n",
       "    </tr>\n",
       "  </thead>\n",
       "  <tbody>\n",
       "    <tr>\n",
       "      <th>0</th>\n",
       "      <td>Analystics &amp; Modeling Specialist</td>\n",
       "      <td>Accenture</td>\n",
       "      <td>6-8 Yrs</td>\n",
       "      <td>Bangalore/Bengaluru, Kolkata, Mumbai, Hyderaba...</td>\n",
       "    </tr>\n",
       "    <tr>\n",
       "      <th>1</th>\n",
       "      <td>Senior Data Scientist</td>\n",
       "      <td>Wipro</td>\n",
       "      <td>6-11 Yrs</td>\n",
       "      <td>Hybrid - Bangalore/Bengaluru, Pune, Chennai</td>\n",
       "    </tr>\n",
       "    <tr>\n",
       "      <th>2</th>\n",
       "      <td>Data Scientist - Looking For Immediate Joiners</td>\n",
       "      <td>Wipro</td>\n",
       "      <td>5-10 Yrs</td>\n",
       "      <td>Hybrid - Bangalore/Bengaluru, Hyderabad/Secund...</td>\n",
       "    </tr>\n",
       "    <tr>\n",
       "      <th>3</th>\n",
       "      <td>Assistant Manager - Data Science</td>\n",
       "      <td>Citiustech</td>\n",
       "      <td>5-9 Yrs</td>\n",
       "      <td>Hybrid - Bangalore/Bengaluru, Mumbai, Pune</td>\n",
       "    </tr>\n",
       "    <tr>\n",
       "      <th>4</th>\n",
       "      <td>Data Scientist</td>\n",
       "      <td>Altair</td>\n",
       "      <td>2-7 Yrs</td>\n",
       "      <td>Bangalore/Bengaluru, Hyderabad/Secunderabad, P...</td>\n",
       "    </tr>\n",
       "    <tr>\n",
       "      <th>5</th>\n",
       "      <td>ACN - Applied Intelligence - Data Scientist - 09</td>\n",
       "      <td>Accenture</td>\n",
       "      <td>2-6 Yrs</td>\n",
       "      <td>Bangalore/Bengaluru</td>\n",
       "    </tr>\n",
       "    <tr>\n",
       "      <th>6</th>\n",
       "      <td>Data Scientist - 2</td>\n",
       "      <td>24 7 ai</td>\n",
       "      <td>1-3 Yrs</td>\n",
       "      <td>Bangalore/Bengaluru</td>\n",
       "    </tr>\n",
       "    <tr>\n",
       "      <th>7</th>\n",
       "      <td>Data Scientist</td>\n",
       "      <td>HCLTech</td>\n",
       "      <td>4-9 Yrs</td>\n",
       "      <td>Bangalore/Bengaluru, Noida, Hyderabad/Secunder...</td>\n",
       "    </tr>\n",
       "    <tr>\n",
       "      <th>8</th>\n",
       "      <td>Assistant Vice President - Data Scientist - KPO</td>\n",
       "      <td>Huquo Consulting Pvt. Ltd</td>\n",
       "      <td>6-11 Yrs</td>\n",
       "      <td>Bangalore/Bengaluru, Mumbai, Hyderabad/Secunde...</td>\n",
       "    </tr>\n",
       "    <tr>\n",
       "      <th>9</th>\n",
       "      <td>Data Scientist</td>\n",
       "      <td>Infinics Global Solutions Pvt Ltd</td>\n",
       "      <td>7-12 Yrs</td>\n",
       "      <td>Bangalore/Bengaluru, Kolkata, Hyderabad/Secund...</td>\n",
       "    </tr>\n",
       "  </tbody>\n",
       "</table>\n",
       "</div>"
      ],
      "text/plain": [
       "                                          Job Title  \\\n",
       "0                  Analystics & Modeling Specialist   \n",
       "1                             Senior Data Scientist   \n",
       "2    Data Scientist - Looking For Immediate Joiners   \n",
       "3                  Assistant Manager - Data Science   \n",
       "4                                    Data Scientist   \n",
       "5  ACN - Applied Intelligence - Data Scientist - 09   \n",
       "6                                Data Scientist - 2   \n",
       "7                                    Data Scientist   \n",
       "8   Assistant Vice President - Data Scientist - KPO   \n",
       "9                                    Data Scientist   \n",
       "\n",
       "                             Company Experience  \\\n",
       "0                          Accenture    6-8 Yrs   \n",
       "1                              Wipro   6-11 Yrs   \n",
       "2                              Wipro   5-10 Yrs   \n",
       "3                         Citiustech    5-9 Yrs   \n",
       "4                             Altair    2-7 Yrs   \n",
       "5                          Accenture    2-6 Yrs   \n",
       "6                            24 7 ai    1-3 Yrs   \n",
       "7                            HCLTech    4-9 Yrs   \n",
       "8          Huquo Consulting Pvt. Ltd   6-11 Yrs   \n",
       "9  Infinics Global Solutions Pvt Ltd   7-12 Yrs   \n",
       "\n",
       "                                            Location  \n",
       "0  Bangalore/Bengaluru, Kolkata, Mumbai, Hyderaba...  \n",
       "1        Hybrid - Bangalore/Bengaluru, Pune, Chennai  \n",
       "2  Hybrid - Bangalore/Bengaluru, Hyderabad/Secund...  \n",
       "3         Hybrid - Bangalore/Bengaluru, Mumbai, Pune  \n",
       "4  Bangalore/Bengaluru, Hyderabad/Secunderabad, P...  \n",
       "5                                Bangalore/Bengaluru  \n",
       "6                                Bangalore/Bengaluru  \n",
       "7  Bangalore/Bengaluru, Noida, Hyderabad/Secunder...  \n",
       "8  Bangalore/Bengaluru, Mumbai, Hyderabad/Secunde...  \n",
       "9  Bangalore/Bengaluru, Kolkata, Hyderabad/Secund...  "
      ]
     },
     "execution_count": 54,
     "metadata": {},
     "output_type": "execute_result"
    }
   ],
   "source": [
    "jobs=pd.DataFrame()\n",
    "jobs['Job Title']=job_titles\n",
    "jobs['Company']=company_name\n",
    "jobs['Experience']=experience\n",
    "jobs['Location']=location\n",
    "jobs.drop(index=jobs.index[10:])"
   ]
  },
  {
   "cell_type": "code",
   "execution_count": 55,
   "id": "3792f917",
   "metadata": {},
   "outputs": [],
   "source": [
    "driver.close()"
   ]
  },
  {
   "cell_type": "markdown",
   "id": "44cfe161",
   "metadata": {},
   "source": [
    "#### Q 3)You have to use the location and salary filter. You have to scrape data for “Data Scientist” designation for first 10 job results. You have to scrape the job-title, job-location, company name, experience required. The location filter to be used is “Delhi/NCR”. The salary filter to be used is “3-6” lakhs The task will be done as shown in the below steps:\n",
    "\n",
    "##### first get the webpage https://www.naukri.com/\n",
    "##### Enter “Data Scientist” in “Skill, Designations, and Companies” field.\n",
    "##### Then click the search button.\n",
    "##### Then apply the location filter and salary filter by checking the respective boxes\n",
    "##### Then scrape the data for the first 10 jobs results you get.\n",
    "#### Finally create a dataframe of the scraped data. Note: All of the above steps have to be done in code. No step is to be done manually."
   ]
  },
  {
   "cell_type": "code",
   "execution_count": 66,
   "id": "a1a0a600",
   "metadata": {},
   "outputs": [],
   "source": [
    "driver = webdriver.Chrome(r\"C:\\Users\\HP\\Downloads\\chromedriver.exe\")"
   ]
  },
  {
   "cell_type": "markdown",
   "id": "78ea18c4",
   "metadata": {},
   "source": [
    "Putting url to the driver"
   ]
  },
  {
   "cell_type": "code",
   "execution_count": 67,
   "id": "4cad3167",
   "metadata": {},
   "outputs": [],
   "source": [
    "url = \"https://www.naukri.com\"\n",
    "driver.get(url)"
   ]
  },
  {
   "cell_type": "markdown",
   "id": "81db9a89",
   "metadata": {},
   "source": [
    "Putting Data Scientist as Job title and directly going for search button through class name "
   ]
  },
  {
   "cell_type": "code",
   "execution_count": 68,
   "id": "0f34b8c3",
   "metadata": {},
   "outputs": [],
   "source": [
    "search_job=driver.find_element(By.CLASS_NAME,\"suggestor-input\")\n",
    "search_job.send_keys('Data Scientist')"
   ]
  },
  {
   "cell_type": "code",
   "execution_count": 69,
   "id": "11f7c295",
   "metadata": {},
   "outputs": [],
   "source": [
    "search_btn= driver .find_element(By.CLASS_NAME,\"qsbSubmit\")\n",
    "search_btn.click()"
   ]
  },
  {
   "cell_type": "markdown",
   "id": "73498bdc",
   "metadata": {},
   "source": [
    "Putting absolute Xpath to loation and salary filter"
   ]
  },
  {
   "cell_type": "code",
   "execution_count": 70,
   "id": "382352f4",
   "metadata": {},
   "outputs": [],
   "source": [
    "loc_filter=driver.find_element(By.XPATH,'/html/body/div[1]/div[4]/div/section[1]/div[2]/div[5]/div[2]/div[2]/label/p/span[1]')\n",
    "loc_filter.click()"
   ]
  },
  {
   "cell_type": "code",
   "execution_count": 73,
   "id": "c55d6a11",
   "metadata": {},
   "outputs": [],
   "source": [
    "sal_filter=driver.find_element(By.XPATH,'/html/body/div[1]/div[4]/div/section[1]/div[2]/div[6]/div[2]/div[2]/label/p')\n",
    " \n",
    "sal_filter.click()\n",
    "    "
   ]
  },
  {
   "cell_type": "markdown",
   "id": "b0884e28",
   "metadata": {},
   "source": [
    "Getting the required detail of company name , location, experience and job title "
   ]
  },
  {
   "cell_type": "code",
   "execution_count": 74,
   "id": "b9274ebc",
   "metadata": {},
   "outputs": [
    {
     "data": {
      "text/plain": [
       "11"
      ]
     },
     "execution_count": 74,
     "metadata": {},
     "output_type": "execute_result"
    }
   ],
   "source": [
    "company_name=[]\n",
    "company_tags=driver.find_elements(By.XPATH,\"//a[@class='subTitle ellipsis fleft']\")\n",
    "\n",
    "for i in company_tags:\n",
    "    if i.text is None:\n",
    "        company_name.append('Not')\n",
    "    else:\n",
    "        company_name.append(i.text)\n",
    "len(company_name)       "
   ]
  },
  {
   "cell_type": "code",
   "execution_count": 75,
   "id": "f4f474cc",
   "metadata": {},
   "outputs": [
    {
     "data": {
      "text/plain": [
       "11"
      ]
     },
     "execution_count": 75,
     "metadata": {},
     "output_type": "execute_result"
    }
   ],
   "source": [
    "experience=[]\n",
    "exp_tags=driver.find_elements(By.XPATH,\"//li[@class='fleft grey-text br2 placeHolderLi experience']\")\n",
    "\n",
    "for i in exp_tags:\n",
    "    if i.text is None:\n",
    "        experience.append('Not')\n",
    "    else:\n",
    "        experience.append(i.text)\n",
    "len(experience)"
   ]
  },
  {
   "cell_type": "code",
   "execution_count": 76,
   "id": "1ea00d53",
   "metadata": {},
   "outputs": [
    {
     "data": {
      "text/plain": [
       "11"
      ]
     },
     "execution_count": 76,
     "metadata": {},
     "output_type": "execute_result"
    }
   ],
   "source": [
    "location=[]\n",
    "location_tags=driver.find_elements(By.XPATH,'//li[@class=\"fleft grey-text br2 placeHolderLi location\"]')\n",
    "\n",
    "for i in location_tags:\n",
    "    if i.text is None:\n",
    "        location.append('Not')\n",
    "    else:\n",
    "        location.append(i.text)\n",
    "len(location_tags)"
   ]
  },
  {
   "cell_type": "code",
   "execution_count": 77,
   "id": "96eaec36",
   "metadata": {},
   "outputs": [
    {
     "data": {
      "text/plain": [
       "11"
      ]
     },
     "execution_count": 77,
     "metadata": {},
     "output_type": "execute_result"
    }
   ],
   "source": [
    "job_titles=[]\n",
    "titles_tags= driver.find_elements(By.XPATH,\"//a[@class='title fw500 ellipsis']\")\n",
    "for i in titles_tags:\n",
    "    job_titles.append(i.text)\n",
    "    \n",
    "len(job_titles)"
   ]
  },
  {
   "cell_type": "markdown",
   "id": "5eceaeb0",
   "metadata": {},
   "source": [
    "Making the Data Frame after veryfying the length"
   ]
  },
  {
   "cell_type": "code",
   "execution_count": 78,
   "id": "1865c52c",
   "metadata": {},
   "outputs": [
    {
     "data": {
      "text/html": [
       "<div>\n",
       "<style scoped>\n",
       "    .dataframe tbody tr th:only-of-type {\n",
       "        vertical-align: middle;\n",
       "    }\n",
       "\n",
       "    .dataframe tbody tr th {\n",
       "        vertical-align: top;\n",
       "    }\n",
       "\n",
       "    .dataframe thead th {\n",
       "        text-align: right;\n",
       "    }\n",
       "</style>\n",
       "<table border=\"1\" class=\"dataframe\">\n",
       "  <thead>\n",
       "    <tr style=\"text-align: right;\">\n",
       "      <th></th>\n",
       "      <th>Job Title</th>\n",
       "      <th>Company</th>\n",
       "      <th>Experience</th>\n",
       "      <th>Location</th>\n",
       "    </tr>\n",
       "  </thead>\n",
       "  <tbody>\n",
       "    <tr>\n",
       "      <th>0</th>\n",
       "      <td>Data Scientist</td>\n",
       "      <td>HCLTech</td>\n",
       "      <td>4-9 Yrs</td>\n",
       "      <td>Noida, Hyderabad/Secunderabad, Chennai, Bangal...</td>\n",
       "    </tr>\n",
       "    <tr>\n",
       "      <th>1</th>\n",
       "      <td>DigitalBCG GAMMA Data Scientist</td>\n",
       "      <td>Boston Consulting Group</td>\n",
       "      <td>2-5 Yrs</td>\n",
       "      <td>New Delhi, Bangalore/Bengaluru</td>\n",
       "    </tr>\n",
       "    <tr>\n",
       "      <th>2</th>\n",
       "      <td>Urgent hiring For Data Scientist (PHD Must Have)</td>\n",
       "      <td>NGI Ventures</td>\n",
       "      <td>0-4 Yrs</td>\n",
       "      <td>Temp. WFH - Noida, Pune</td>\n",
       "    </tr>\n",
       "    <tr>\n",
       "      <th>3</th>\n",
       "      <td>Manager - Data Science - Banking&amp;Financial Ser...</td>\n",
       "      <td>Black Turtle</td>\n",
       "      <td>4-8 Yrs</td>\n",
       "      <td>Delhi / NCR, Bangalore/Bengaluru</td>\n",
       "    </tr>\n",
       "    <tr>\n",
       "      <th>4</th>\n",
       "      <td>Data Scientist / Sr. Data Scientist</td>\n",
       "      <td>Wegarner Solutions</td>\n",
       "      <td>3-8 Yrs</td>\n",
       "      <td>Temp. WFH - Noida</td>\n",
       "    </tr>\n",
       "    <tr>\n",
       "      <th>5</th>\n",
       "      <td>Data Scientist</td>\n",
       "      <td>torcai digital media</td>\n",
       "      <td>2-7 Yrs</td>\n",
       "      <td>Dehradun, Hyderabad/Secunderabad, Gurgaon/Guru...</td>\n",
       "    </tr>\n",
       "    <tr>\n",
       "      <th>6</th>\n",
       "      <td>Data Scientist</td>\n",
       "      <td>Meon Technologies</td>\n",
       "      <td>2-5 Yrs</td>\n",
       "      <td>Noida</td>\n",
       "    </tr>\n",
       "    <tr>\n",
       "      <th>7</th>\n",
       "      <td>Data Scientist</td>\n",
       "      <td>Alliance Recruitment Agency</td>\n",
       "      <td>3-4 Yrs</td>\n",
       "      <td>Noida</td>\n",
       "    </tr>\n",
       "    <tr>\n",
       "      <th>8</th>\n",
       "      <td>Data scientist- Python</td>\n",
       "      <td>TeamPlus Staffing Solution Pvt Ltd</td>\n",
       "      <td>3-6 Yrs</td>\n",
       "      <td>Gurgaon/Gurugram</td>\n",
       "    </tr>\n",
       "    <tr>\n",
       "      <th>9</th>\n",
       "      <td>Data Scientist</td>\n",
       "      <td>Razor Group GmbH</td>\n",
       "      <td>2-3 Yrs</td>\n",
       "      <td>New Delhi</td>\n",
       "    </tr>\n",
       "  </tbody>\n",
       "</table>\n",
       "</div>"
      ],
      "text/plain": [
       "                                           Job Title  \\\n",
       "0                                     Data Scientist   \n",
       "1                    DigitalBCG GAMMA Data Scientist   \n",
       "2   Urgent hiring For Data Scientist (PHD Must Have)   \n",
       "3  Manager - Data Science - Banking&Financial Ser...   \n",
       "4                Data Scientist / Sr. Data Scientist   \n",
       "5                                     Data Scientist   \n",
       "6                                     Data Scientist   \n",
       "7                                     Data Scientist   \n",
       "8                             Data scientist- Python   \n",
       "9                                     Data Scientist   \n",
       "\n",
       "                              Company Experience  \\\n",
       "0                             HCLTech    4-9 Yrs   \n",
       "1             Boston Consulting Group    2-5 Yrs   \n",
       "2                        NGI Ventures    0-4 Yrs   \n",
       "3                        Black Turtle    4-8 Yrs   \n",
       "4                  Wegarner Solutions    3-8 Yrs   \n",
       "5                torcai digital media    2-7 Yrs   \n",
       "6                   Meon Technologies    2-5 Yrs   \n",
       "7         Alliance Recruitment Agency    3-4 Yrs   \n",
       "8  TeamPlus Staffing Solution Pvt Ltd    3-6 Yrs   \n",
       "9                    Razor Group GmbH    2-3 Yrs   \n",
       "\n",
       "                                            Location  \n",
       "0  Noida, Hyderabad/Secunderabad, Chennai, Bangal...  \n",
       "1                     New Delhi, Bangalore/Bengaluru  \n",
       "2                            Temp. WFH - Noida, Pune  \n",
       "3                   Delhi / NCR, Bangalore/Bengaluru  \n",
       "4                                  Temp. WFH - Noida  \n",
       "5  Dehradun, Hyderabad/Secunderabad, Gurgaon/Guru...  \n",
       "6                                              Noida  \n",
       "7                                              Noida  \n",
       "8                                   Gurgaon/Gurugram  \n",
       "9                                          New Delhi  "
      ]
     },
     "execution_count": 78,
     "metadata": {},
     "output_type": "execute_result"
    }
   ],
   "source": [
    "jobs=pd.DataFrame()\n",
    "jobs['Job Title']=job_titles\n",
    "jobs['Company']=company_name\n",
    "jobs['Experience']=experience\n",
    "jobs['Location']=location\n",
    "jobs.drop(index=jobs.index[10:])"
   ]
  },
  {
   "cell_type": "code",
   "execution_count": 79,
   "id": "656f4f2a",
   "metadata": {},
   "outputs": [],
   "source": [
    "driver.close()"
   ]
  },
  {
   "cell_type": "markdown",
   "id": "53df3a13",
   "metadata": {},
   "source": [
    "#### Q4: Scrape data of first 100 sunglasses listings on flipkart.com. You have to scrape four attributes:\n",
    "##### 1. Brand\n",
    "##### 2. Product Description\n",
    "##### 3. Price\n",
    "To scrape the data you have to go through following steps:\n",
    "1. Go to Flipkart webpage by url : https://www.flipkart.com/\n",
    "2. Enter “sunglasses” in the search field where “search for products, brands and more” is written and\n",
    "click the search icon\n",
    "3. After that you will reach to the page having a lot of sunglasses. From this page you can scrap the required data as usual.\n",
    "4. After scraping data from the first page, go to the “Next” Button at the bottom other page , then click on it.\n",
    "5. Now scrape data from this page as usual\n",
    "6. Repeat this until you get data for 100 sunglasses.\n",
    "Note: That all of the above steps have to be done by coding only and not manually"
   ]
  },
  {
   "cell_type": "code",
   "execution_count": 2,
   "id": "0367c938",
   "metadata": {},
   "outputs": [],
   "source": [
    "import selenium\n",
    "import pandas as pd\n",
    "from selenium import webdriver\n",
    "from selenium.webdriver.common.by import By\n",
    "import warnings\n",
    "warnings.filterwarnings(\"ignore\")\n",
    "import time"
   ]
  },
  {
   "cell_type": "code",
   "execution_count": 3,
   "id": "76234dfa",
   "metadata": {},
   "outputs": [],
   "source": [
    "driver = webdriver.Chrome(r\"C:\\Users\\HP\\Downloads\\chromedriver.exe\")"
   ]
  },
  {
   "cell_type": "code",
   "execution_count": 5,
   "id": "2732e47e",
   "metadata": {},
   "outputs": [],
   "source": [
    "# Putting url to the driver\n",
    "url = \"https://www.flipkart.com\"\n",
    "driver.get(url)"
   ]
  },
  {
   "cell_type": "code",
   "execution_count": 8,
   "id": "13aa6a8b",
   "metadata": {},
   "outputs": [],
   "source": [
    "# finding element for job search bar\n",
    "search_g= driver.find_element(By.XPATH,\"//input[@type='text']\")\n",
    "search_g.send_keys('sunglasses')"
   ]
  },
  {
   "cell_type": "code",
   "execution_count": 9,
   "id": "f906afcc",
   "metadata": {},
   "outputs": [],
   "source": [
    "search_btn= driver .find_element(By.CLASS_NAME,\"L0Z3Pu\")\n",
    "search_btn.click()\n"
   ]
  },
  {
   "cell_type": "code",
   "execution_count": 10,
   "id": "62e3bc97",
   "metadata": {},
   "outputs": [],
   "source": [
    "# Creating empty list for all the data required\n",
    "\n",
    "B_name=[]\n",
    "Price=[]\n",
    "P_desc=[]\n",
    "Discount=[]"
   ]
  },
  {
   "cell_type": "code",
   "execution_count": 13,
   "id": "7eb67e88",
   "metadata": {},
   "outputs": [],
   "source": [
    "#collecting all the data required as in a single page 40 products are given so for 100 product we have to go up to 3 pages/range\n",
    "\n",
    "for i in range(3):\n",
    "    b_name=driver.find_elements(By.XPATH,\"//div[@class='_2WkVRV']\")\n",
    "    p_desc=driver.find_elements(By.XPATH,\"//a[@class='IRpwTa']\")\n",
    "    price =driver.find_elements(By.XPATH,\"//div[@class='_25b18c']\")\n",
    "    discount=driver.find_elements(By.XPATH,\"//div[@class='_3Ay6Sb']\")\n",
    "    \n",
    "    for j  in b_name:\n",
    "        B_name.append(j.text)\n",
    "    B_name[:100]    \n",
    "    \n",
    "    \n",
    "    \n",
    "    for k in p_desc:\n",
    "        P_desc.append(k.text)\n",
    "    P_desc[:100] \n",
    "    \n",
    "    \n",
    "    for l in price:\n",
    "        Price.append(l.text)\n",
    "    Price[:100] \n",
    "    \n",
    "    \n",
    "    for t in discount:\n",
    "        Discount.append(t.text)\n",
    "    Discount[:100]"
   ]
  },
  {
   "cell_type": "markdown",
   "id": "6bf98644",
   "metadata": {},
   "source": [
    "Making Data frame of the sun glasses"
   ]
  },
  {
   "cell_type": "code",
   "execution_count": 14,
   "id": "4cac577d",
   "metadata": {},
   "outputs": [],
   "source": [
    "sun_gl=pd.DataFrame({})\n",
    "sun_gl['Brand_name']=B_name[:100]\n",
    "sun_gl['P_price']=Price[:100]\n",
    "sun_gl['Pr_desc']=P_desc[:100]\n",
    "sun_gl['P_discount']=Discount[:100]"
   ]
  },
  {
   "cell_type": "code",
   "execution_count": 15,
   "id": "86aa92fd",
   "metadata": {},
   "outputs": [
    {
     "data": {
      "text/html": [
       "<div>\n",
       "<style scoped>\n",
       "    .dataframe tbody tr th:only-of-type {\n",
       "        vertical-align: middle;\n",
       "    }\n",
       "\n",
       "    .dataframe tbody tr th {\n",
       "        vertical-align: top;\n",
       "    }\n",
       "\n",
       "    .dataframe thead th {\n",
       "        text-align: right;\n",
       "    }\n",
       "</style>\n",
       "<table border=\"1\" class=\"dataframe\">\n",
       "  <thead>\n",
       "    <tr style=\"text-align: right;\">\n",
       "      <th></th>\n",
       "      <th>Brand_name</th>\n",
       "      <th>P_price</th>\n",
       "      <th>Pr_desc</th>\n",
       "      <th>P_discount</th>\n",
       "    </tr>\n",
       "  </thead>\n",
       "  <tbody>\n",
       "    <tr>\n",
       "      <th>0</th>\n",
       "      <td>Fastrack</td>\n",
       "      <td>₹649₹99935% off</td>\n",
       "      <td>UV Protection Wayfarer Sunglasses (Free Size)</td>\n",
       "      <td>35% off</td>\n",
       "    </tr>\n",
       "    <tr>\n",
       "      <th>1</th>\n",
       "      <td>PIRASO</td>\n",
       "      <td>₹199₹1,59987% off</td>\n",
       "      <td>UV Protection Rectangular Sunglasses (52)</td>\n",
       "      <td>87% off</td>\n",
       "    </tr>\n",
       "    <tr>\n",
       "      <th>2</th>\n",
       "      <td>Fastrack</td>\n",
       "      <td>₹519₹79935% off</td>\n",
       "      <td>UV Protection Rectangular Sunglasses (Free Size)</td>\n",
       "      <td>35% off</td>\n",
       "    </tr>\n",
       "    <tr>\n",
       "      <th>3</th>\n",
       "      <td>SUNBEE</td>\n",
       "      <td>₹283₹1,29978% off</td>\n",
       "      <td>UV Protection, Polarized Wayfarer Sunglasses (...</td>\n",
       "      <td>78% off</td>\n",
       "    </tr>\n",
       "    <tr>\n",
       "      <th>4</th>\n",
       "      <td>Fastrack</td>\n",
       "      <td>₹649₹89927% off</td>\n",
       "      <td>UV Protection Shield Sunglasses (Free Size)</td>\n",
       "      <td>27% off</td>\n",
       "    </tr>\n",
       "    <tr>\n",
       "      <th>...</th>\n",
       "      <td>...</td>\n",
       "      <td>...</td>\n",
       "      <td>...</td>\n",
       "      <td>...</td>\n",
       "    </tr>\n",
       "    <tr>\n",
       "      <th>95</th>\n",
       "      <td>ROZZETTA CRAFT</td>\n",
       "      <td>₹579₹89935% off</td>\n",
       "      <td>Polarized, Riding Glasses Sports, Wrap-around ...</td>\n",
       "      <td>76% off</td>\n",
       "    </tr>\n",
       "    <tr>\n",
       "      <th>96</th>\n",
       "      <td>SHAAH COLLECTIONS</td>\n",
       "      <td>₹254₹2,59990% off</td>\n",
       "      <td>UV Protection, Polarized, Mirrored Rectangular...</td>\n",
       "      <td>89% off</td>\n",
       "    </tr>\n",
       "    <tr>\n",
       "      <th>97</th>\n",
       "      <td>Elligator</td>\n",
       "      <td>₹649₹1,99967% off</td>\n",
       "      <td>UV Protection Cat-eye, Retro Square, Oval, Rou...</td>\n",
       "      <td>82% off</td>\n",
       "    </tr>\n",
       "    <tr>\n",
       "      <th>98</th>\n",
       "      <td>GANSTA</td>\n",
       "      <td>₹265₹1,49982% off</td>\n",
       "      <td>UV Protection Retro Square Sunglasses (53)</td>\n",
       "      <td>87% off</td>\n",
       "    </tr>\n",
       "    <tr>\n",
       "      <th>99</th>\n",
       "      <td>Fastrack</td>\n",
       "      <td>₹209₹1,59986% off</td>\n",
       "      <td>UV Protection Aviator Sunglasses (58)</td>\n",
       "      <td>27% off</td>\n",
       "    </tr>\n",
       "  </tbody>\n",
       "</table>\n",
       "<p>100 rows × 4 columns</p>\n",
       "</div>"
      ],
      "text/plain": [
       "           Brand_name            P_price  \\\n",
       "0            Fastrack    ₹649₹99935% off   \n",
       "1              PIRASO  ₹199₹1,59987% off   \n",
       "2            Fastrack    ₹519₹79935% off   \n",
       "3              SUNBEE  ₹283₹1,29978% off   \n",
       "4            Fastrack    ₹649₹89927% off   \n",
       "..                ...                ...   \n",
       "95     ROZZETTA CRAFT    ₹579₹89935% off   \n",
       "96  SHAAH COLLECTIONS  ₹254₹2,59990% off   \n",
       "97          Elligator  ₹649₹1,99967% off   \n",
       "98             GANSTA  ₹265₹1,49982% off   \n",
       "99           Fastrack  ₹209₹1,59986% off   \n",
       "\n",
       "                                              Pr_desc P_discount  \n",
       "0       UV Protection Wayfarer Sunglasses (Free Size)    35% off  \n",
       "1           UV Protection Rectangular Sunglasses (52)    87% off  \n",
       "2    UV Protection Rectangular Sunglasses (Free Size)    35% off  \n",
       "3   UV Protection, Polarized Wayfarer Sunglasses (...    78% off  \n",
       "4         UV Protection Shield Sunglasses (Free Size)    27% off  \n",
       "..                                                ...        ...  \n",
       "95  Polarized, Riding Glasses Sports, Wrap-around ...    76% off  \n",
       "96  UV Protection, Polarized, Mirrored Rectangular...    89% off  \n",
       "97  UV Protection Cat-eye, Retro Square, Oval, Rou...    82% off  \n",
       "98         UV Protection Retro Square Sunglasses (53)    87% off  \n",
       "99              UV Protection Aviator Sunglasses (58)    27% off  \n",
       "\n",
       "[100 rows x 4 columns]"
      ]
     },
     "execution_count": 15,
     "metadata": {},
     "output_type": "execute_result"
    }
   ],
   "source": [
    "sun_gl"
   ]
  },
  {
   "cell_type": "code",
   "execution_count": 16,
   "id": "cb0af195",
   "metadata": {},
   "outputs": [],
   "source": [
    "driver.close()"
   ]
  },
  {
   "cell_type": "markdown",
   "id": "9159abe6",
   "metadata": {},
   "source": [
    "#### Q5: Scrape 100 reviews data from flipkart.com for iphone11 phone. You have to go the link: https://www.flipkart.com/apple-iphone-11-black-64-gb-includes- earpods-power- adapter/p/itm0f37c2240b217?pid=MOBFKCTSVZAXUHGR&lid=LSTMOBFKC TSVZAXUHGREPBFGI&marketplace.\n",
    "##### When you will open the above link you will reach to the below shown webpage .\n",
    "##### As shown in the above page you have to scrape the tick marked attributes.These are:\n",
    "##### 1. Rating\n",
    "##### 2. Review summary\n",
    "##### 3. Full review\n",
    "##### 4. You have to scrape this data for first 100 reviews."
   ]
  },
  {
   "cell_type": "code",
   "execution_count": 17,
   "id": "c398de65",
   "metadata": {},
   "outputs": [],
   "source": [
    "import selenium\n",
    "import pandas as pd\n",
    "from selenium import webdriver\n",
    "from selenium.webdriver.common.by import By\n",
    "import warnings\n",
    "warnings.filterwarnings(\"ignore\")\n",
    "import time"
   ]
  },
  {
   "cell_type": "code",
   "execution_count": 18,
   "id": "4c7d94b6",
   "metadata": {},
   "outputs": [],
   "source": [
    "driver = webdriver.Chrome(r\"C:\\Users\\HP\\Downloads\\chromedriver.exe\")"
   ]
  },
  {
   "cell_type": "markdown",
   "id": "1dc62fe8",
   "metadata": {},
   "source": [
    "As the given Url was not working so I copied the Url for required data from the website after self browsing "
   ]
  },
  {
   "cell_type": "code",
   "execution_count": 21,
   "id": "2a06aa25",
   "metadata": {},
   "outputs": [],
   "source": [
    "url = \"https://www.flipkart.com/apple-iphone-11-black-64-gb/p/itm4e5041ba101fd?pid=MOBFWQ6BXGJCEYNY&lid=LSTMOBFWQ6BXGJCEYNYZXSHRJ&marketplace=FLIPKART&q=apple+iphone+11&store=tyy%2F4io&srno=s_1_1&otracker=AS_Query_OrganicAutoSuggest_5_7_na_na_na&otracker1=AS_Query_OrganicAutoSuggest_5_7_na_na_na&fm=organic&iid=1b663406-2c47-4b43-8bd1-f60b8c0756b1.MOBFWQ6BXGJCEYNY.SEARCH&ppt=hp&ppn=homepage&ssid=eue5ndaof40000001667568254423&qH=cc74be6329e232f4\"\n",
    "driver.get(url)\n"
   ]
  },
  {
   "cell_type": "code",
   "execution_count": 29,
   "id": "2b6f6814",
   "metadata": {},
   "outputs": [
    {
     "name": "stdout",
     "output_type": "stream",
     "text": [
      "Scraping page 1\n",
      "Scraping page 2\n",
      "Scraping page 3\n",
      "Scraping page 4\n",
      "Scraping page 5\n",
      "Scraping page 6\n",
      "Scraping page 7\n",
      "Scraping page 8\n",
      "Scraping page 9\n",
      "Scraping page 10\n"
     ]
    },
    {
     "data": {
      "text/plain": [
       "100"
      ]
     },
     "execution_count": 29,
     "metadata": {},
     "output_type": "execute_result"
    }
   ],
   "source": [
    "#As we required 100 no of data so we have to visit up to 10 pages so ---\n",
    "rating = []\n",
    "for i in range(10):\n",
    "    print('Scraping page',i+1)\n",
    "    star = driver.find_elements(By.XPATH,'//div[@class=\"_3LWZlK _1BLPMq\"]')\n",
    "    for r in star:\n",
    "        rating.append(r.text)\n",
    "    next_button = driver.find_elements(By.XPATH,'//a[@class=\"_1LKTO3\"]')    \n",
    "    next_button\n",
    "    \n",
    "len(rating)"
   ]
  },
  {
   "cell_type": "code",
   "execution_count": 33,
   "id": "ce93e91d",
   "metadata": {},
   "outputs": [
    {
     "name": "stdout",
     "output_type": "stream",
     "text": [
      "Scraping page 1\n",
      "Scraping page 2\n",
      "Scraping page 3\n",
      "Scraping page 4\n",
      "Scraping page 5\n",
      "Scraping page 6\n",
      "Scraping page 7\n",
      "Scraping page 8\n",
      "Scraping page 9\n",
      "Scraping page 10\n"
     ]
    },
    {
     "data": {
      "text/plain": [
       "100"
      ]
     },
     "execution_count": 33,
     "metadata": {},
     "output_type": "execute_result"
    }
   ],
   "source": [
    "review_sum = []\n",
    "for i in range(10):\n",
    "    print('Scraping page',i+1)\n",
    "    review = driver.find_elements(By.XPATH,'//p[@class=\"_2-N8zT\"]')\n",
    "    for z in review:\n",
    "        review_sum.append(z.text)\n",
    "    next_button = driver.find_element(By.XPATH,'//a[@class=\"_1LKTO3\"]')    \n",
    "    \n",
    "len(review_sum)"
   ]
  },
  {
   "cell_type": "code",
   "execution_count": 35,
   "id": "fa9d064d",
   "metadata": {},
   "outputs": [
    {
     "name": "stdout",
     "output_type": "stream",
     "text": [
      "Scraping page 1\n",
      "Scraping page 2\n",
      "Scraping page 3\n",
      "Scraping page 4\n",
      "Scraping page 5\n",
      "Scraping page 6\n",
      "Scraping page 7\n",
      "Scraping page 8\n",
      "Scraping page 9\n",
      "Scraping page 10\n"
     ]
    },
    {
     "data": {
      "text/plain": [
       "100"
      ]
     },
     "execution_count": 35,
     "metadata": {},
     "output_type": "execute_result"
    }
   ],
   "source": [
    "full_rev = []\n",
    "for i in range(10):\n",
    "    print('Scraping page',i+1)\n",
    "    review = driver.find_elements(By.XPATH,'//div[@class=\"t-ZTKy\"]')\n",
    "    for z in review:\n",
    "        full_rev.append(z.text)\n",
    "    next_button = driver.find_element(By.XPATH,'//a[@class=\"_1LKTO3\"]')   \n",
    "    \n",
    "    \n",
    "len(full_rev)"
   ]
  },
  {
   "cell_type": "markdown",
   "id": "225d18de",
   "metadata": {},
   "source": [
    " After collecting the Data and veryfying the length of each of them we are making Data Frame"
   ]
  },
  {
   "cell_type": "code",
   "execution_count": 36,
   "id": "8c1abb92",
   "metadata": {},
   "outputs": [
    {
     "data": {
      "text/html": [
       "<div>\n",
       "<style scoped>\n",
       "    .dataframe tbody tr th:only-of-type {\n",
       "        vertical-align: middle;\n",
       "    }\n",
       "\n",
       "    .dataframe tbody tr th {\n",
       "        vertical-align: top;\n",
       "    }\n",
       "\n",
       "    .dataframe thead th {\n",
       "        text-align: right;\n",
       "    }\n",
       "</style>\n",
       "<table border=\"1\" class=\"dataframe\">\n",
       "  <thead>\n",
       "    <tr style=\"text-align: right;\">\n",
       "      <th></th>\n",
       "      <th>Rating</th>\n",
       "      <th>Review Summary</th>\n",
       "      <th>Full Review</th>\n",
       "    </tr>\n",
       "  </thead>\n",
       "  <tbody>\n",
       "    <tr>\n",
       "      <th>0</th>\n",
       "      <td>5</td>\n",
       "      <td>Simply awesome</td>\n",
       "      <td>Really satisfied with the Product I received.....</td>\n",
       "    </tr>\n",
       "    <tr>\n",
       "      <th>1</th>\n",
       "      <td>4</td>\n",
       "      <td>Value-for-money</td>\n",
       "      <td>I'm Really happy with the product\\nDelivery wa...</td>\n",
       "    </tr>\n",
       "    <tr>\n",
       "      <th>2</th>\n",
       "      <td>5</td>\n",
       "      <td>Perfect product!</td>\n",
       "      <td>Amazing phone with great cameras and better ba...</td>\n",
       "    </tr>\n",
       "    <tr>\n",
       "      <th>3</th>\n",
       "      <td>5</td>\n",
       "      <td>Best in the market!</td>\n",
       "      <td>Great iPhone very snappy experience as apple k...</td>\n",
       "    </tr>\n",
       "    <tr>\n",
       "      <th>4</th>\n",
       "      <td>5</td>\n",
       "      <td>Highly recommended</td>\n",
       "      <td>What a camera .....just awesome ..you can feel...</td>\n",
       "    </tr>\n",
       "    <tr>\n",
       "      <th>...</th>\n",
       "      <td>...</td>\n",
       "      <td>...</td>\n",
       "      <td>...</td>\n",
       "    </tr>\n",
       "    <tr>\n",
       "      <th>95</th>\n",
       "      <td>5</td>\n",
       "      <td>Worth every penny</td>\n",
       "      <td>Previously I was using one plus 3t it was a gr...</td>\n",
       "    </tr>\n",
       "    <tr>\n",
       "      <th>96</th>\n",
       "      <td>5</td>\n",
       "      <td>Highly recommended</td>\n",
       "      <td>It's my first time to use iOS phone and I am l...</td>\n",
       "    </tr>\n",
       "    <tr>\n",
       "      <th>97</th>\n",
       "      <td>5</td>\n",
       "      <td>Perfect product!</td>\n",
       "      <td>Value for money\\n5 star rating\\nExcellent came...</td>\n",
       "    </tr>\n",
       "    <tr>\n",
       "      <th>98</th>\n",
       "      <td>4</td>\n",
       "      <td>Pretty good</td>\n",
       "      <td>I was using Iphone 6s and also Oneplus 6t. Bot...</td>\n",
       "    </tr>\n",
       "    <tr>\n",
       "      <th>99</th>\n",
       "      <td>5</td>\n",
       "      <td>Great product</td>\n",
       "      <td>Amazing Powerful and Durable Gadget.\\n\\nI’m am...</td>\n",
       "    </tr>\n",
       "  </tbody>\n",
       "</table>\n",
       "<p>100 rows × 3 columns</p>\n",
       "</div>"
      ],
      "text/plain": [
       "   Rating       Review Summary  \\\n",
       "0       5       Simply awesome   \n",
       "1       4      Value-for-money   \n",
       "2       5     Perfect product!   \n",
       "3       5  Best in the market!   \n",
       "4       5   Highly recommended   \n",
       "..    ...                  ...   \n",
       "95      5    Worth every penny   \n",
       "96      5   Highly recommended   \n",
       "97      5     Perfect product!   \n",
       "98      4          Pretty good   \n",
       "99      5        Great product   \n",
       "\n",
       "                                          Full Review  \n",
       "0   Really satisfied with the Product I received.....  \n",
       "1   I'm Really happy with the product\\nDelivery wa...  \n",
       "2   Amazing phone with great cameras and better ba...  \n",
       "3   Great iPhone very snappy experience as apple k...  \n",
       "4   What a camera .....just awesome ..you can feel...  \n",
       "..                                                ...  \n",
       "95  Previously I was using one plus 3t it was a gr...  \n",
       "96  It's my first time to use iOS phone and I am l...  \n",
       "97  Value for money\\n5 star rating\\nExcellent came...  \n",
       "98  I was using Iphone 6s and also Oneplus 6t. Bot...  \n",
       "99  Amazing Powerful and Durable Gadget.\\n\\nI’m am...  \n",
       "\n",
       "[100 rows x 3 columns]"
      ]
     },
     "execution_count": 36,
     "metadata": {},
     "output_type": "execute_result"
    }
   ],
   "source": [
    "df = pd.DataFrame({'Rating':rating,'Review Summary':review_sum,'Full Review':full_rev})\n",
    "df"
   ]
  },
  {
   "cell_type": "code",
   "execution_count": 37,
   "id": "54df524b",
   "metadata": {},
   "outputs": [],
   "source": [
    "driver.close()"
   ]
  },
  {
   "cell_type": "markdown",
   "id": "f5d00144",
   "metadata": {},
   "source": [
    "#### Q6: Scrape data for first 100 sneakers you find when you visit flipkart.com and search for “sneakers” in the\n",
    "#### search field.\n",
    "##### You have to scrape 4 attributes of each sneaker:\n",
    "1. Brand\n",
    "2. Product Description\n",
    "3. Price\n",
    "\n",
    "#### As shown in the below image, you have to scrape the tick marked(discount) attributes."
   ]
  },
  {
   "cell_type": "code",
   "execution_count": 38,
   "id": "58fd6be8",
   "metadata": {},
   "outputs": [],
   "source": [
    "import selenium\n",
    "import pandas as pd\n",
    "from selenium import webdriver\n",
    "from selenium.webdriver.common.by import By\n",
    "import warnings\n",
    "warnings.filterwarnings(\"ignore\")\n",
    "import time"
   ]
  },
  {
   "cell_type": "code",
   "execution_count": 39,
   "id": "0d4e1edf",
   "metadata": {},
   "outputs": [],
   "source": [
    "driver = webdriver.Chrome(r\"C:\\Users\\HP\\Downloads\\chromedriver.exe\")"
   ]
  },
  {
   "cell_type": "code",
   "execution_count": 40,
   "id": "b761f4c1",
   "metadata": {},
   "outputs": [],
   "source": [
    "url=\"https://www.flipkart.com/\"\n",
    "driver.get(url)"
   ]
  },
  {
   "cell_type": "code",
   "execution_count": 41,
   "id": "1e8ff922",
   "metadata": {},
   "outputs": [],
   "source": [
    "# finding element for job search bar\n",
    "search_g= driver.find_element(By.XPATH,\"//input[@type='text']\")\n",
    "search_g.send_keys('sneakers')"
   ]
  },
  {
   "cell_type": "code",
   "execution_count": 45,
   "id": "0fbd9499",
   "metadata": {},
   "outputs": [],
   "source": [
    "search_btn=driver.find_element(By.XPATH,\"//button[@class='L0Z3Pu']\")\n",
    "search_btn\n",
    "search_btn= driver .find_element(By.CLASS_NAME,\"L0Z3Pu\")\n"
   ]
  },
  {
   "cell_type": "code",
   "execution_count": 46,
   "id": "a9dca3da",
   "metadata": {},
   "outputs": [],
   "source": [
    "search_btn.click()"
   ]
  },
  {
   "cell_type": "code",
   "execution_count": null,
   "id": "85bf4f2e",
   "metadata": {},
   "outputs": [],
   "source": [
    "B_name=[]\n",
    "Price=[]\n",
    "P_desc=[]\n",
    "Discount=[]"
   ]
  },
  {
   "cell_type": "markdown",
   "id": "59c254b6",
   "metadata": {},
   "source": [
    "Collecting the required Data by XPath up to 3 pages as in one page only 40 products are listed."
   ]
  },
  {
   "cell_type": "code",
   "execution_count": 47,
   "id": "8074a68f",
   "metadata": {},
   "outputs": [],
   "source": [
    "for i in range(3):\n",
    "    b_name=driver.find_elements(By.XPATH,\"//div[@class='_2WkVRV']\")\n",
    "    p_desc=driver.find_elements(By.XPATH,\"//a[@class='IRpwTa']\")\n",
    "    price =driver.find_elements(By.XPATH,\"//div[@class='_25b18c']\")\n",
    "    discount=driver.find_elements(By.XPATH,\"//div[@class='_3Ay6Sb']\")\n",
    "    \n",
    "    for j  in b_name:\n",
    "        B_name.append(j.text)\n",
    "    B_name[:100]    \n",
    "    \n",
    "    \n",
    "    \n",
    "    for k in p_desc:\n",
    "        P_desc.append(k.text)\n",
    "    P_desc[:100] \n",
    "    \n",
    "    \n",
    "    for l in price:\n",
    "        Price.append(l.text)\n",
    "    Price[:100] \n",
    "    \n",
    "    \n",
    "    for t in discount:\n",
    "        Discount.append(t.text)\n",
    "    Discount[:100]"
   ]
  },
  {
   "cell_type": "markdown",
   "id": "c3448b7c",
   "metadata": {},
   "source": [
    "Cheaking the length of data before making the data frame  "
   ]
  },
  {
   "cell_type": "code",
   "execution_count": 48,
   "id": "8e567b30",
   "metadata": {},
   "outputs": [
    {
     "name": "stdout",
     "output_type": "stream",
     "text": [
      "100\n",
      "100\n",
      "100\n",
      "100\n"
     ]
    },
    {
     "data": {
      "text/plain": [
       "(None, None, None, None)"
      ]
     },
     "execution_count": 48,
     "metadata": {},
     "output_type": "execute_result"
    }
   ],
   "source": [
    "print(len(B_name[:100])),print(len(Price[:100])),print(len(P_desc[:100])),print(len(Discount[:100]))"
   ]
  },
  {
   "cell_type": "markdown",
   "id": "33e9e77f",
   "metadata": {},
   "source": [
    "Making the Data Frame"
   ]
  },
  {
   "cell_type": "code",
   "execution_count": 49,
   "id": "6aa7d850",
   "metadata": {},
   "outputs": [
    {
     "data": {
      "text/html": [
       "<div>\n",
       "<style scoped>\n",
       "    .dataframe tbody tr th:only-of-type {\n",
       "        vertical-align: middle;\n",
       "    }\n",
       "\n",
       "    .dataframe tbody tr th {\n",
       "        vertical-align: top;\n",
       "    }\n",
       "\n",
       "    .dataframe thead th {\n",
       "        text-align: right;\n",
       "    }\n",
       "</style>\n",
       "<table border=\"1\" class=\"dataframe\">\n",
       "  <thead>\n",
       "    <tr style=\"text-align: right;\">\n",
       "      <th></th>\n",
       "      <th>Brand_name</th>\n",
       "      <th>P_price</th>\n",
       "      <th>Pr_desc</th>\n",
       "      <th>P_discount</th>\n",
       "    </tr>\n",
       "  </thead>\n",
       "  <tbody>\n",
       "    <tr>\n",
       "      <th>0</th>\n",
       "      <td>Fastrack</td>\n",
       "      <td>₹649₹99935% off</td>\n",
       "      <td>UV Protection Wayfarer Sunglasses (Free Size)</td>\n",
       "      <td>35% off</td>\n",
       "    </tr>\n",
       "    <tr>\n",
       "      <th>1</th>\n",
       "      <td>PIRASO</td>\n",
       "      <td>₹199₹1,59987% off</td>\n",
       "      <td>UV Protection Rectangular Sunglasses (52)</td>\n",
       "      <td>87% off</td>\n",
       "    </tr>\n",
       "    <tr>\n",
       "      <th>2</th>\n",
       "      <td>Fastrack</td>\n",
       "      <td>₹519₹79935% off</td>\n",
       "      <td>UV Protection Rectangular Sunglasses (Free Size)</td>\n",
       "      <td>35% off</td>\n",
       "    </tr>\n",
       "    <tr>\n",
       "      <th>3</th>\n",
       "      <td>SUNBEE</td>\n",
       "      <td>₹283₹1,29978% off</td>\n",
       "      <td>UV Protection, Polarized Wayfarer Sunglasses (...</td>\n",
       "      <td>78% off</td>\n",
       "    </tr>\n",
       "    <tr>\n",
       "      <th>4</th>\n",
       "      <td>Fastrack</td>\n",
       "      <td>₹649₹89927% off</td>\n",
       "      <td>UV Protection Shield Sunglasses (Free Size)</td>\n",
       "      <td>27% off</td>\n",
       "    </tr>\n",
       "    <tr>\n",
       "      <th>...</th>\n",
       "      <td>...</td>\n",
       "      <td>...</td>\n",
       "      <td>...</td>\n",
       "      <td>...</td>\n",
       "    </tr>\n",
       "    <tr>\n",
       "      <th>95</th>\n",
       "      <td>ROZZETTA CRAFT</td>\n",
       "      <td>₹579₹89935% off</td>\n",
       "      <td>Polarized, Riding Glasses Sports, Wrap-around ...</td>\n",
       "      <td>76% off</td>\n",
       "    </tr>\n",
       "    <tr>\n",
       "      <th>96</th>\n",
       "      <td>SHAAH COLLECTIONS</td>\n",
       "      <td>₹254₹2,59990% off</td>\n",
       "      <td>UV Protection, Polarized, Mirrored Rectangular...</td>\n",
       "      <td>89% off</td>\n",
       "    </tr>\n",
       "    <tr>\n",
       "      <th>97</th>\n",
       "      <td>Elligator</td>\n",
       "      <td>₹649₹1,99967% off</td>\n",
       "      <td>UV Protection Cat-eye, Retro Square, Oval, Rou...</td>\n",
       "      <td>82% off</td>\n",
       "    </tr>\n",
       "    <tr>\n",
       "      <th>98</th>\n",
       "      <td>GANSTA</td>\n",
       "      <td>₹265₹1,49982% off</td>\n",
       "      <td>UV Protection Retro Square Sunglasses (53)</td>\n",
       "      <td>87% off</td>\n",
       "    </tr>\n",
       "    <tr>\n",
       "      <th>99</th>\n",
       "      <td>Fastrack</td>\n",
       "      <td>₹209₹1,59986% off</td>\n",
       "      <td>UV Protection Aviator Sunglasses (58)</td>\n",
       "      <td>27% off</td>\n",
       "    </tr>\n",
       "  </tbody>\n",
       "</table>\n",
       "<p>100 rows × 4 columns</p>\n",
       "</div>"
      ],
      "text/plain": [
       "           Brand_name            P_price  \\\n",
       "0            Fastrack    ₹649₹99935% off   \n",
       "1              PIRASO  ₹199₹1,59987% off   \n",
       "2            Fastrack    ₹519₹79935% off   \n",
       "3              SUNBEE  ₹283₹1,29978% off   \n",
       "4            Fastrack    ₹649₹89927% off   \n",
       "..                ...                ...   \n",
       "95     ROZZETTA CRAFT    ₹579₹89935% off   \n",
       "96  SHAAH COLLECTIONS  ₹254₹2,59990% off   \n",
       "97          Elligator  ₹649₹1,99967% off   \n",
       "98             GANSTA  ₹265₹1,49982% off   \n",
       "99           Fastrack  ₹209₹1,59986% off   \n",
       "\n",
       "                                              Pr_desc P_discount  \n",
       "0       UV Protection Wayfarer Sunglasses (Free Size)    35% off  \n",
       "1           UV Protection Rectangular Sunglasses (52)    87% off  \n",
       "2    UV Protection Rectangular Sunglasses (Free Size)    35% off  \n",
       "3   UV Protection, Polarized Wayfarer Sunglasses (...    78% off  \n",
       "4         UV Protection Shield Sunglasses (Free Size)    27% off  \n",
       "..                                                ...        ...  \n",
       "95  Polarized, Riding Glasses Sports, Wrap-around ...    76% off  \n",
       "96  UV Protection, Polarized, Mirrored Rectangular...    89% off  \n",
       "97  UV Protection Cat-eye, Retro Square, Oval, Rou...    82% off  \n",
       "98         UV Protection Retro Square Sunglasses (53)    87% off  \n",
       "99              UV Protection Aviator Sunglasses (58)    27% off  \n",
       "\n",
       "[100 rows x 4 columns]"
      ]
     },
     "execution_count": 49,
     "metadata": {},
     "output_type": "execute_result"
    }
   ],
   "source": [
    "sneaker=pd.DataFrame({})\n",
    "sneaker['Brand_name']=B_name[:100]\n",
    "sneaker['P_price']=Price[:100]\n",
    "sneaker['Pr_desc']=P_desc[:100]\n",
    "sneaker['P_discount']=Discount[:100]\n",
    "sneaker"
   ]
  },
  {
   "cell_type": "code",
   "execution_count": 50,
   "id": "15c699c5",
   "metadata": {},
   "outputs": [],
   "source": [
    "driver.close()"
   ]
  },
  {
   "cell_type": "markdown",
   "id": "4eff6d40",
   "metadata": {},
   "source": [
    "#### Q7: Go to the link - https://www.myntra.com/shoes\n",
    "#### Set second Price(7205-14137) filter and Color filter to “Black”, as shown in the below image.\n",
    "\n",
    "And then scrape First 100 shoes data you get. \n",
    "\n",
    "The data should include “Brand” of the shoes , \n",
    "\n",
    "Short Shoe description,\n",
    "\n",
    "#### price of the shoe as shown in the below image."
   ]
  },
  {
   "cell_type": "code",
   "execution_count": 51,
   "id": "8ab66033",
   "metadata": {},
   "outputs": [],
   "source": [
    "import selenium\n",
    "import pandas as pd\n",
    "from selenium import webdriver\n",
    "from selenium.webdriver.common.by import By\n",
    "import warnings\n",
    "warnings.filterwarnings(\"ignore\")\n",
    "import time"
   ]
  },
  {
   "cell_type": "code",
   "execution_count": 52,
   "id": "e42f7b5a",
   "metadata": {},
   "outputs": [],
   "source": [
    "driver = webdriver.Chrome(r\"C:\\Users\\HP\\Downloads\\chromedriver.exe\")"
   ]
  },
  {
   "cell_type": "code",
   "execution_count": 53,
   "id": "568a748a",
   "metadata": {},
   "outputs": [],
   "source": [
    "url=\"https://www.myntra.com/shoes\"\n",
    "driver.get(url)"
   ]
  },
  {
   "cell_type": "code",
   "execution_count": 56,
   "id": "4f1d669a",
   "metadata": {},
   "outputs": [],
   "source": [
    "# appplying the price filter\n",
    "filter_button=driver.find_elements(By.XPATH,\"//label[@class='common-customerCheckbox vertical-filters-label']\")\n",
    "for i in filter_button:\n",
    "    if i.text==\"Rs. 7198 to Rs. 14133\":\n",
    "        i.click()\n",
    "        break"
   ]
  },
  {
   "cell_type": "code",
   "execution_count": 57,
   "id": "2a172fc5",
   "metadata": {},
   "outputs": [],
   "source": [
    "#Applying the color filter\n",
    "\n",
    "\n",
    "filter_button=driver.find_elements(By.XPATH,\"//li[@class='colour-listItem']\")\n",
    "for i in filter_button:\n",
    "    if i.text==\"Black\":\n",
    "        i.click()\n",
    "        break"
   ]
  },
  {
   "cell_type": "code",
   "execution_count": 59,
   "id": "29c5ae1d",
   "metadata": {},
   "outputs": [],
   "source": [
    "# collecting the required Data \n",
    "B_name=[]\n",
    "Price=[]\n",
    "P_desc=[]\n",
    "\n",
    "\n",
    "\n",
    "for i in range(2):\n",
    "    b_name=driver.find_elements(By.XPATH,\"//h3[@class='product-brand']\")\n",
    "    p_desc=driver.find_elements(By.XPATH,\"//h4[@class='product-product']\")\n",
    "    price =driver.find_elements(By.XPATH,\"//div[@class='product-price']\")\n",
    " \n",
    "    for j  in b_name:\n",
    "        B_name.append(j.text)\n",
    "    B_name[:100]    \n",
    "    \n",
    "    \n",
    "    \n",
    "    for k in p_desc:\n",
    "        P_desc.append(k.text)\n",
    "    P_desc[:100] \n",
    "    \n",
    "    \n",
    "    for l in price:\n",
    "        Price.append(l.text)\n",
    "    Price[:100] "
   ]
  },
  {
   "cell_type": "code",
   "execution_count": 60,
   "id": "0f2b92ad",
   "metadata": {},
   "outputs": [
    {
     "name": "stdout",
     "output_type": "stream",
     "text": [
      "100\n",
      "100\n",
      "100\n"
     ]
    },
    {
     "data": {
      "text/plain": [
       "(None, None, None)"
      ]
     },
     "execution_count": 60,
     "metadata": {},
     "output_type": "execute_result"
    }
   ],
   "source": [
    "print(len(B_name[:100])),print(len(Price[:100])),print(len(P_desc[:100]))"
   ]
  },
  {
   "cell_type": "markdown",
   "id": "2e5511ed",
   "metadata": {},
   "source": [
    "Making The Data Frame "
   ]
  },
  {
   "cell_type": "code",
   "execution_count": 61,
   "id": "7a745ff6",
   "metadata": {},
   "outputs": [
    {
     "data": {
      "text/html": [
       "<div>\n",
       "<style scoped>\n",
       "    .dataframe tbody tr th:only-of-type {\n",
       "        vertical-align: middle;\n",
       "    }\n",
       "\n",
       "    .dataframe tbody tr th {\n",
       "        vertical-align: top;\n",
       "    }\n",
       "\n",
       "    .dataframe thead th {\n",
       "        text-align: right;\n",
       "    }\n",
       "</style>\n",
       "<table border=\"1\" class=\"dataframe\">\n",
       "  <thead>\n",
       "    <tr style=\"text-align: right;\">\n",
       "      <th></th>\n",
       "      <th>Brand_name</th>\n",
       "      <th>P_price</th>\n",
       "      <th>Pr_desc</th>\n",
       "    </tr>\n",
       "  </thead>\n",
       "  <tbody>\n",
       "    <tr>\n",
       "      <th>0</th>\n",
       "      <td>Nike</td>\n",
       "      <td>Rs. 7645Rs. 8495(10% OFF)</td>\n",
       "      <td>Men AIR WINFLO 9 Running Shoes</td>\n",
       "    </tr>\n",
       "    <tr>\n",
       "      <th>1</th>\n",
       "      <td>Nike</td>\n",
       "      <td>Rs. 9175Rs. 10795(15% OFF)</td>\n",
       "      <td>JORDAN ZION 2 Basketball Shoes</td>\n",
       "    </tr>\n",
       "    <tr>\n",
       "      <th>2</th>\n",
       "      <td>Nike</td>\n",
       "      <td>Rs. 8240Rs. 9695(15% OFF)</td>\n",
       "      <td>JORDAN LUKA 1 Basketball Shoes</td>\n",
       "    </tr>\n",
       "    <tr>\n",
       "      <th>3</th>\n",
       "      <td>Nike</td>\n",
       "      <td>Rs. 10796Rs. 13495(20% OFF)</td>\n",
       "      <td>Unisex AIR MAX 270 Golf Shoes</td>\n",
       "    </tr>\n",
       "    <tr>\n",
       "      <th>4</th>\n",
       "      <td>Nike</td>\n",
       "      <td>Rs. 10165Rs. 11295(10% OFF)</td>\n",
       "      <td>Men JORDAN Basketball Shoes</td>\n",
       "    </tr>\n",
       "    <tr>\n",
       "      <th>...</th>\n",
       "      <td>...</td>\n",
       "      <td>...</td>\n",
       "      <td>...</td>\n",
       "    </tr>\n",
       "    <tr>\n",
       "      <th>95</th>\n",
       "      <td>Nike</td>\n",
       "      <td>Rs. 9175Rs. 10795(15% OFF)</td>\n",
       "      <td>Men AIR MAX DAWN Sneakers</td>\n",
       "    </tr>\n",
       "    <tr>\n",
       "      <th>96</th>\n",
       "      <td>Tommy Hilfiger</td>\n",
       "      <td>Rs. 7199Rs. 8999(20% OFF)</td>\n",
       "      <td>Men Solid Sneakers</td>\n",
       "    </tr>\n",
       "    <tr>\n",
       "      <th>97</th>\n",
       "      <td>ADIDAS Originals</td>\n",
       "      <td>Rs. 12599Rs. 13999(10% OFF)</td>\n",
       "      <td>Men Streetball II Sneakers</td>\n",
       "    </tr>\n",
       "    <tr>\n",
       "      <th>98</th>\n",
       "      <td>UNDER ARMOUR</td>\n",
       "      <td>Rs. 9999</td>\n",
       "      <td>Women HOVR SonicSE Running</td>\n",
       "    </tr>\n",
       "    <tr>\n",
       "      <th>99</th>\n",
       "      <td>ADIDAS Originals</td>\n",
       "      <td>Rs. 8999</td>\n",
       "      <td>Women Solid Stan Smith Sneaker</td>\n",
       "    </tr>\n",
       "  </tbody>\n",
       "</table>\n",
       "<p>100 rows × 3 columns</p>\n",
       "</div>"
      ],
      "text/plain": [
       "          Brand_name                      P_price  \\\n",
       "0               Nike    Rs. 7645Rs. 8495(10% OFF)   \n",
       "1               Nike   Rs. 9175Rs. 10795(15% OFF)   \n",
       "2               Nike    Rs. 8240Rs. 9695(15% OFF)   \n",
       "3               Nike  Rs. 10796Rs. 13495(20% OFF)   \n",
       "4               Nike  Rs. 10165Rs. 11295(10% OFF)   \n",
       "..               ...                          ...   \n",
       "95              Nike   Rs. 9175Rs. 10795(15% OFF)   \n",
       "96    Tommy Hilfiger    Rs. 7199Rs. 8999(20% OFF)   \n",
       "97  ADIDAS Originals  Rs. 12599Rs. 13999(10% OFF)   \n",
       "98      UNDER ARMOUR                     Rs. 9999   \n",
       "99  ADIDAS Originals                     Rs. 8999   \n",
       "\n",
       "                           Pr_desc  \n",
       "0   Men AIR WINFLO 9 Running Shoes  \n",
       "1   JORDAN ZION 2 Basketball Shoes  \n",
       "2   JORDAN LUKA 1 Basketball Shoes  \n",
       "3    Unisex AIR MAX 270 Golf Shoes  \n",
       "4      Men JORDAN Basketball Shoes  \n",
       "..                             ...  \n",
       "95       Men AIR MAX DAWN Sneakers  \n",
       "96              Men Solid Sneakers  \n",
       "97      Men Streetball II Sneakers  \n",
       "98      Women HOVR SonicSE Running  \n",
       "99  Women Solid Stan Smith Sneaker  \n",
       "\n",
       "[100 rows x 3 columns]"
      ]
     },
     "execution_count": 61,
     "metadata": {},
     "output_type": "execute_result"
    }
   ],
   "source": [
    "black_shoes=pd.DataFrame({})\n",
    "black_shoes['Brand_name']=B_name[:100]\n",
    "black_shoes['P_price']=Price[:100]\n",
    "black_shoes['Pr_desc']=P_desc[:100]\n",
    "\n",
    "black_shoes"
   ]
  },
  {
   "cell_type": "code",
   "execution_count": 62,
   "id": "1c6053ca",
   "metadata": {},
   "outputs": [],
   "source": [
    "driver.close()"
   ]
  },
  {
   "cell_type": "markdown",
   "id": "ddfe267d",
   "metadata": {},
   "source": [
    "#### Q8: Go to webpage https://www.amazon.in/\n",
    "#### Enter “Laptop” in the search field and then click the search icon.\n",
    "#### Then set CPU Type filter to “Intel Core i7” as shown in the below image:\n",
    "    \n",
    "    After setting the filters scrape first 10 laptops data. You have to scrape 3 attributesfor each laptop:\n",
    "1. Title\n",
    "2. Ratings\n",
    "3. Price"
   ]
  },
  {
   "cell_type": "code",
   "execution_count": 74,
   "id": "a7b28a77",
   "metadata": {},
   "outputs": [],
   "source": [
    "import selenium\n",
    "import pandas as pd\n",
    "from selenium import webdriver\n",
    "from selenium.webdriver.common.by import By\n",
    "import warnings\n",
    "warnings.filterwarnings(\"ignore\")\n",
    "import time"
   ]
  },
  {
   "cell_type": "code",
   "execution_count": 86,
   "id": "e8514ce1",
   "metadata": {},
   "outputs": [],
   "source": [
    "driver = webdriver.Chrome(r\"C:\\Users\\HP\\Downloads\\chromedriver.exe\")"
   ]
  },
  {
   "cell_type": "code",
   "execution_count": 87,
   "id": "c62f7a2f",
   "metadata": {},
   "outputs": [],
   "source": [
    "url=\"https://www.amazon.in/\"\n",
    "driver.get(url)"
   ]
  },
  {
   "cell_type": "code",
   "execution_count": 88,
   "id": "d7b7c37f",
   "metadata": {},
   "outputs": [],
   "source": [
    "# finding element for job search bar\n",
    "search_g= driver.find_element(By.XPATH,'//input[@class=\"nav-input nav-progressive-attribute\"]' )\n",
    "search_g.send_keys('Laptop')"
   ]
  },
  {
   "cell_type": "code",
   "execution_count": 89,
   "id": "c7a76b8f",
   "metadata": {},
   "outputs": [],
   "source": [
    "search_btn=driver.find_element(By.XPATH,'//div[@class=\"nav-search-submit nav-sprite\"]')\n",
    "search_btn.click()"
   ]
  },
  {
   "cell_type": "code",
   "execution_count": 90,
   "id": "6a065498",
   "metadata": {},
   "outputs": [],
   "source": [
    "# Applying filter button through absolute X path\n",
    "\n",
    "filter_btn=driver.find_element(By.XPATH,'/html/body/div[1]/div[2]/div[1]/div[2]/div/div[3]/span/div[1]/div/div/div[5]/ul[5]/li[13]/span/a/div')\n",
    "filter_btn.click()"
   ]
  },
  {
   "cell_type": "code",
   "execution_count": 98,
   "id": "023b7917",
   "metadata": {},
   "outputs": [],
   "source": [
    "brand = []\n",
    "rating = []\n",
    "price = []\n",
    "# collecting the data for empty list \n",
    "all_products = driver.find_elements(By.XPATH,'//div[@data-component-type=\"s-search-result\"]')\n",
    "\n",
    "for product in all_products:\n",
    "    \n",
    "    brands_name = product.find_elements(By.XPATH,'.//span[@class=\"a-size-medium a-color-base a-text-normal\"]')\n",
    "    for a in brands_name:\n",
    "        brand.append(a.text)\n",
    "    try:\n",
    "        if len(product.find_elements(By.XPATH,\".//div[@class='a-row a-size-small']/span[1]\"))>0:\n",
    "            star = product.find_elements(By.XPATH,\".//div[@class='a-row a-size-small']/span[1]\")\n",
    "            for b in star:\n",
    "                rating.append(b.get_attribute(\"aria-label\"))\n",
    "        else:\n",
    "            rating.append(\"NA\")\n",
    "    except:\n",
    "        pass\n",
    "                 \n",
    "    amount = product.find_elements(By.XPATH,\".//span[@class='a-price-whole']\")\n",
    "    for c in amount:\n",
    "        price.append(c.text)\n",
    "    "
   ]
  },
  {
   "cell_type": "code",
   "execution_count": 99,
   "id": "aa5241b8",
   "metadata": {},
   "outputs": [
    {
     "data": {
      "text/plain": [
       "24"
      ]
     },
     "execution_count": 99,
     "metadata": {},
     "output_type": "execute_result"
    }
   ],
   "source": [
    "len(brand)\n"
   ]
  },
  {
   "cell_type": "code",
   "execution_count": 100,
   "id": "217f6998",
   "metadata": {},
   "outputs": [],
   "source": [
    "b = brand[0:10]"
   ]
  },
  {
   "cell_type": "code",
   "execution_count": 101,
   "id": "599d1a36",
   "metadata": {},
   "outputs": [
    {
     "data": {
      "text/plain": [
       "['HP Pavilion x360 11th Gen Intel Core i7 14 inch(35.6 cm) FHD,IPS, Multitouch 2-in-1 Laptop(16GB RAM/512GB SSD/Backlit KB/Intel Iris Xe Graphics/Pen/Alexa Built-in/MSO/1.52Kg) 14-dy1050TU, Spruce Blue',\n",
       " 'Lenovo ThinkBook 15 Intel 11th Gen Core i7 15.6\"(39.62 cm) FHD Thin and Light Laptop (16GB/512GB SSD/Windows 11 Home/MS Office H&S 2021/Iris® Xe Graphics/Backlit/Mineral Grey/1.7 Kg) 20VE00W4IH',\n",
       " 'ASUS Vivobook 15, 15.6-inch (39.62 cms) FHD, Intel Core i7-1065G7 10th Gen, Thin and Light Laptop (16GB/512GB SSD/Iris Plus Graphics/Windows 11/Office 2021/Silver/1.8 kg), X515JA-EJ701WS',\n",
       " 'Lenovo IdeaPad Slim 5 12th Gen Intel Core i7 15.6\"(39.62cm) FHD IPS Laptop (16GB/512GB SSD/Win 11/Office 2021/Backlit KB/Fingerprint/FHD Camera/Alexa/3 Month Game Pass/Storm Grey/1.85Kg), 82SF004XIN',\n",
       " '(Renewed) HP ProBook 430 G3 6th Gen Intel Core i7 Thin & Light HD Laptop (8 GB DDR4 RAM/256 GB SSD/13.3\" (33.8 cm)/Windows 11/MS Office/Wifi/Bluetooth 4.0/Webcam/Integrated Graphics)',\n",
       " 'Dell Inspiron 5320 Laptop, i7-1260P, 16GB LPDDR5, 512GB SSD, Integrated, 13.3\" (33.78Cms) QHD+ WVA AG 300 nits, Win 11+ MSO\\'21, Platinum Silver (D560754WIN9S, 1.25Kgs)',\n",
       " 'Acer Nitro 5 Gaming Laptop/12th Gen Intel Core i7-12700H Processor 14core/15.6\"(39.6cm) FHD 144Hz Display(16GB/512GB SSD/1TB HDD/RTX 3050Ti Graphics/Windows 11/RGB),AN515-58 + Xbox Game Pass Ultimate',\n",
       " 'Lenovo ThinkBook 15 Intel 12th Gen Core i7 15.6\" (39.62cm) FHD 250 nits Antiglare Thin and Light Laptop (16GB/512GB SSD/Windows 11 Home/MS Office H&S 2021/Backlit/Mineral Grey/1.7 Kg), 21DJA04NIH',\n",
       " '(Renewed) HP Workstation Zbook Intel Core i7-4810MQ Quad Core Processor , 4 GB Ram & 128 GB SSD, 15.6 Inches with Intel & Nvidia K2100M Dual Graphics with FHD Screen 1080p Laptop Computer',\n",
       " '(Renewed) HP ProBook 430 G3 6th Gen Intel Core i7 Thin & Light HD Laptop (8 GB DDR4 RAM/500 GB HDD/13.3\" (33.8 cm)/Windows 11/MS Office/Wifi/Bluetooth 4.0/Webcam/Integrated Graphics)']"
      ]
     },
     "execution_count": 101,
     "metadata": {},
     "output_type": "execute_result"
    }
   ],
   "source": [
    "b"
   ]
  },
  {
   "cell_type": "code",
   "execution_count": 102,
   "id": "015ab50d",
   "metadata": {},
   "outputs": [
    {
     "data": {
      "text/plain": [
       "['4.5 out of 5 stars',\n",
       " '3.6 out of 5 stars',\n",
       " '3.8 out of 5 stars',\n",
       " '4.3 out of 5 stars',\n",
       " '3.5 out of 5 stars',\n",
       " 'NA',\n",
       " '3.9 out of 5 stars',\n",
       " '5.0 out of 5 stars',\n",
       " 'NA',\n",
       " '2.8 out of 5 stars',\n",
       " 'NA',\n",
       " 'NA',\n",
       " 'NA',\n",
       " '4.0 out of 5 stars',\n",
       " '2.9 out of 5 stars',\n",
       " '3.6 out of 5 stars',\n",
       " 'NA',\n",
       " 'NA',\n",
       " 'NA',\n",
       " 'NA',\n",
       " 'NA',\n",
       " 'NA',\n",
       " 'NA',\n",
       " 'NA']"
      ]
     },
     "execution_count": 102,
     "metadata": {},
     "output_type": "execute_result"
    }
   ],
   "source": [
    "rating"
   ]
  },
  {
   "cell_type": "code",
   "execution_count": 103,
   "id": "427a8419",
   "metadata": {},
   "outputs": [
    {
     "data": {
      "text/plain": [
       "['4.5 out of 5 stars',\n",
       " '3.6 out of 5 stars',\n",
       " '3.8 out of 5 stars',\n",
       " '4.3 out of 5 stars',\n",
       " '3.5 out of 5 stars',\n",
       " 'NA',\n",
       " '3.9 out of 5 stars',\n",
       " '5.0 out of 5 stars',\n",
       " 'NA',\n",
       " '2.8 out of 5 stars']"
      ]
     },
     "execution_count": 103,
     "metadata": {},
     "output_type": "execute_result"
    }
   ],
   "source": [
    "r = rating[0:10]\n",
    "r"
   ]
  },
  {
   "cell_type": "code",
   "execution_count": 104,
   "id": "50967e00",
   "metadata": {},
   "outputs": [
    {
     "data": {
      "text/plain": [
       "['80,990',\n",
       " '83,990',\n",
       " '25,895',\n",
       " '84,918',\n",
       " '1,04,819',\n",
       " '86,490',\n",
       " '21,990',\n",
       " '22,999',\n",
       " '25,990',\n",
       " '45,990']"
      ]
     },
     "execution_count": 104,
     "metadata": {},
     "output_type": "execute_result"
    }
   ],
   "source": [
    "p = price[0:10]\n",
    "p"
   ]
  },
  {
   "cell_type": "markdown",
   "id": "bb0b2962",
   "metadata": {},
   "source": [
    "Making Data Frame "
   ]
  },
  {
   "cell_type": "code",
   "execution_count": 105,
   "id": "3c9017ea",
   "metadata": {},
   "outputs": [
    {
     "data": {
      "text/html": [
       "<div>\n",
       "<style scoped>\n",
       "    .dataframe tbody tr th:only-of-type {\n",
       "        vertical-align: middle;\n",
       "    }\n",
       "\n",
       "    .dataframe tbody tr th {\n",
       "        vertical-align: top;\n",
       "    }\n",
       "\n",
       "    .dataframe thead th {\n",
       "        text-align: right;\n",
       "    }\n",
       "</style>\n",
       "<table border=\"1\" class=\"dataframe\">\n",
       "  <thead>\n",
       "    <tr style=\"text-align: right;\">\n",
       "      <th></th>\n",
       "      <th>Brand</th>\n",
       "      <th>Price</th>\n",
       "      <th>Rating</th>\n",
       "    </tr>\n",
       "  </thead>\n",
       "  <tbody>\n",
       "    <tr>\n",
       "      <th>0</th>\n",
       "      <td>HP Pavilion x360 11th Gen Intel Core i7 14 inc...</td>\n",
       "      <td>80,990</td>\n",
       "      <td>4.5 out of 5 stars</td>\n",
       "    </tr>\n",
       "    <tr>\n",
       "      <th>1</th>\n",
       "      <td>Lenovo ThinkBook 15 Intel 11th Gen Core i7 15....</td>\n",
       "      <td>83,990</td>\n",
       "      <td>3.6 out of 5 stars</td>\n",
       "    </tr>\n",
       "    <tr>\n",
       "      <th>2</th>\n",
       "      <td>ASUS Vivobook 15, 15.6-inch (39.62 cms) FHD, I...</td>\n",
       "      <td>25,895</td>\n",
       "      <td>3.8 out of 5 stars</td>\n",
       "    </tr>\n",
       "    <tr>\n",
       "      <th>3</th>\n",
       "      <td>Lenovo IdeaPad Slim 5 12th Gen Intel Core i7 1...</td>\n",
       "      <td>84,918</td>\n",
       "      <td>4.3 out of 5 stars</td>\n",
       "    </tr>\n",
       "    <tr>\n",
       "      <th>4</th>\n",
       "      <td>(Renewed) HP ProBook 430 G3 6th Gen Intel Core...</td>\n",
       "      <td>1,04,819</td>\n",
       "      <td>3.5 out of 5 stars</td>\n",
       "    </tr>\n",
       "    <tr>\n",
       "      <th>5</th>\n",
       "      <td>Dell Inspiron 5320 Laptop, i7-1260P, 16GB LPDD...</td>\n",
       "      <td>86,490</td>\n",
       "      <td>NA</td>\n",
       "    </tr>\n",
       "    <tr>\n",
       "      <th>6</th>\n",
       "      <td>Acer Nitro 5 Gaming Laptop/12th Gen Intel Core...</td>\n",
       "      <td>21,990</td>\n",
       "      <td>3.9 out of 5 stars</td>\n",
       "    </tr>\n",
       "    <tr>\n",
       "      <th>7</th>\n",
       "      <td>Lenovo ThinkBook 15 Intel 12th Gen Core i7 15....</td>\n",
       "      <td>22,999</td>\n",
       "      <td>5.0 out of 5 stars</td>\n",
       "    </tr>\n",
       "    <tr>\n",
       "      <th>8</th>\n",
       "      <td>(Renewed) HP Workstation Zbook Intel Core i7-4...</td>\n",
       "      <td>25,990</td>\n",
       "      <td>NA</td>\n",
       "    </tr>\n",
       "    <tr>\n",
       "      <th>9</th>\n",
       "      <td>(Renewed) HP ProBook 430 G3 6th Gen Intel Core...</td>\n",
       "      <td>45,990</td>\n",
       "      <td>2.8 out of 5 stars</td>\n",
       "    </tr>\n",
       "  </tbody>\n",
       "</table>\n",
       "</div>"
      ],
      "text/plain": [
       "                                               Brand     Price  \\\n",
       "0  HP Pavilion x360 11th Gen Intel Core i7 14 inc...    80,990   \n",
       "1  Lenovo ThinkBook 15 Intel 11th Gen Core i7 15....    83,990   \n",
       "2  ASUS Vivobook 15, 15.6-inch (39.62 cms) FHD, I...    25,895   \n",
       "3  Lenovo IdeaPad Slim 5 12th Gen Intel Core i7 1...    84,918   \n",
       "4  (Renewed) HP ProBook 430 G3 6th Gen Intel Core...  1,04,819   \n",
       "5  Dell Inspiron 5320 Laptop, i7-1260P, 16GB LPDD...    86,490   \n",
       "6  Acer Nitro 5 Gaming Laptop/12th Gen Intel Core...    21,990   \n",
       "7  Lenovo ThinkBook 15 Intel 12th Gen Core i7 15....    22,999   \n",
       "8  (Renewed) HP Workstation Zbook Intel Core i7-4...    25,990   \n",
       "9  (Renewed) HP ProBook 430 G3 6th Gen Intel Core...    45,990   \n",
       "\n",
       "               Rating  \n",
       "0  4.5 out of 5 stars  \n",
       "1  3.6 out of 5 stars  \n",
       "2  3.8 out of 5 stars  \n",
       "3  4.3 out of 5 stars  \n",
       "4  3.5 out of 5 stars  \n",
       "5                  NA  \n",
       "6  3.9 out of 5 stars  \n",
       "7  5.0 out of 5 stars  \n",
       "8                  NA  \n",
       "9  2.8 out of 5 stars  "
      ]
     },
     "execution_count": 105,
     "metadata": {},
     "output_type": "execute_result"
    }
   ],
   "source": [
    "df = pd.DataFrame({'Brand':b,'Price':p,'Rating':r})\n",
    "df"
   ]
  },
  {
   "cell_type": "code",
   "execution_count": 106,
   "id": "5c3ef38d",
   "metadata": {},
   "outputs": [],
   "source": [
    "driver.close()"
   ]
  },
  {
   "cell_type": "markdown",
   "id": "978dc96d",
   "metadata": {},
   "source": [
    "#### Q9: Write a python program to scrape data for Top 1000 Quotes of All Time.\n",
    "The above task will be done in following steps:\n",
    "1.First get the webpage https://www.azquotes.com/\n",
    "2. Click on Top Quotes\n",
    "3. Than scrap a) Quote b) Author c) Type Of Quote"
   ]
  },
  {
   "cell_type": "code",
   "execution_count": 1,
   "id": "c4760f5a",
   "metadata": {},
   "outputs": [],
   "source": [
    "import selenium\n",
    "import pandas as pd\n",
    "from selenium import webdriver\n",
    "from selenium.webdriver.common.by import By\n",
    "import warnings\n",
    "warnings.filterwarnings(\"ignore\")\n",
    "import time"
   ]
  },
  {
   "cell_type": "code",
   "execution_count": 4,
   "id": "8363b588",
   "metadata": {},
   "outputs": [],
   "source": [
    "driver = webdriver.Chrome(r\"C:\\Users\\HP\\Downloads\\chromedriver.exe\")"
   ]
  },
  {
   "cell_type": "code",
   "execution_count": 5,
   "id": "ea34d48c",
   "metadata": {},
   "outputs": [],
   "source": [
    "url=\"https://www.azquotes.com/\"\n",
    "driver.get(url)"
   ]
  },
  {
   "cell_type": "code",
   "execution_count": 6,
   "id": "c4a7a0ea",
   "metadata": {},
   "outputs": [],
   "source": [
    "top100qt=driver.find_element(By.XPATH,'/html/body/div[1]/div[1]/div[1]/div/div[3]/ul/li[5]/a')\n",
    "top100qt.click()"
   ]
  },
  {
   "cell_type": "markdown",
   "id": "3a66e3e9",
   "metadata": {},
   "source": [
    "As there are only 100 qoutes in one page so we have to search up to all the 10 pages "
   ]
  },
  {
   "cell_type": "code",
   "execution_count": 16,
   "id": "a50150ae",
   "metadata": {},
   "outputs": [
    {
     "data": {
      "text/plain": [
       "1000"
      ]
     },
     "execution_count": 16,
     "metadata": {},
     "output_type": "execute_result"
    }
   ],
   "source": [
    "# here range 10is given for all the 10 pages  \n",
    "\n",
    "titles=[]\n",
    "for page in range (10):\n",
    "    titles_tags= driver.find_elements(By.XPATH,'//a[@class=\"title\"]')\n",
    "    for i in titles_tags:\n",
    "        titles.append(i.text)\n",
    "    \n",
    "len(titles)"
   ]
  },
  {
   "cell_type": "code",
   "execution_count": 17,
   "id": "126b1e6d",
   "metadata": {},
   "outputs": [
    {
     "data": {
      "text/plain": [
       "1000"
      ]
     },
     "execution_count": 17,
     "metadata": {},
     "output_type": "execute_result"
    }
   ],
   "source": [
    "author=[]\n",
    "for page in range (10):\n",
    "    author_tags= driver.find_elements(By.XPATH,'//div[@class=\"author\"]')\n",
    "    for i in author_tags:\n",
    "        author.append(i.text)\n",
    "    \n",
    "len(author)"
   ]
  },
  {
   "cell_type": "code",
   "execution_count": 18,
   "id": "f3f604d9",
   "metadata": {},
   "outputs": [
    {
     "data": {
      "text/plain": [
       "1000"
      ]
     },
     "execution_count": 18,
     "metadata": {},
     "output_type": "execute_result"
    }
   ],
   "source": [
    "type=[]\n",
    "for page in range (10):\n",
    "    type_tags= driver.find_elements(By.XPATH,'//div[@class=\"tags\"]')\n",
    "    for i in type_tags:\n",
    "        type.append(i.text)\n",
    "    \n",
    "len(type)"
   ]
  },
  {
   "cell_type": "code",
   "execution_count": null,
   "id": "737f35c6",
   "metadata": {},
   "outputs": [],
   "source": []
  },
  {
   "cell_type": "markdown",
   "id": "16803ca7",
   "metadata": {},
   "source": [
    "#### Making the Data Frame after collecting the data"
   ]
  },
  {
   "cell_type": "code",
   "execution_count": 19,
   "id": "1e72015b",
   "metadata": {},
   "outputs": [
    {
     "data": {
      "text/html": [
       "<div>\n",
       "<style scoped>\n",
       "    .dataframe tbody tr th:only-of-type {\n",
       "        vertical-align: middle;\n",
       "    }\n",
       "\n",
       "    .dataframe tbody tr th {\n",
       "        vertical-align: top;\n",
       "    }\n",
       "\n",
       "    .dataframe thead th {\n",
       "        text-align: right;\n",
       "    }\n",
       "</style>\n",
       "<table border=\"1\" class=\"dataframe\">\n",
       "  <thead>\n",
       "    <tr style=\"text-align: right;\">\n",
       "      <th></th>\n",
       "      <th>Title</th>\n",
       "      <th>Author</th>\n",
       "      <th>Type</th>\n",
       "    </tr>\n",
       "  </thead>\n",
       "  <tbody>\n",
       "    <tr>\n",
       "      <th>0</th>\n",
       "      <td>The essence of strategy is choosing what not t...</td>\n",
       "      <td>Michael Porter</td>\n",
       "      <td>Essence, Deep Thought, Transcendentalism</td>\n",
       "    </tr>\n",
       "    <tr>\n",
       "      <th>1</th>\n",
       "      <td>One cannot and must not try to erase the past ...</td>\n",
       "      <td>Golda Meir</td>\n",
       "      <td>Inspiration, Past, Trying</td>\n",
       "    </tr>\n",
       "    <tr>\n",
       "      <th>2</th>\n",
       "      <td>Patriotism means to stand by the country. It d...</td>\n",
       "      <td>Theodore Roosevelt</td>\n",
       "      <td>Country, Peace, War</td>\n",
       "    </tr>\n",
       "    <tr>\n",
       "      <th>3</th>\n",
       "      <td>Death is something inevitable. When a man has ...</td>\n",
       "      <td>Nelson Mandela</td>\n",
       "      <td>Inspirational, Motivational, Death</td>\n",
       "    </tr>\n",
       "    <tr>\n",
       "      <th>4</th>\n",
       "      <td>You have to love a nation that celebrates its ...</td>\n",
       "      <td>Erma Bombeck</td>\n",
       "      <td>4th Of July, Food, Patriotic</td>\n",
       "    </tr>\n",
       "    <tr>\n",
       "      <th>...</th>\n",
       "      <td>...</td>\n",
       "      <td>...</td>\n",
       "      <td>...</td>\n",
       "    </tr>\n",
       "    <tr>\n",
       "      <th>995</th>\n",
       "      <td>When the going gets weird, the weird turn pro.</td>\n",
       "      <td>Hunter S. Thompson</td>\n",
       "      <td>Music, Sports, Hunting</td>\n",
       "    </tr>\n",
       "    <tr>\n",
       "      <th>996</th>\n",
       "      <td>When a train goes through a tunnel and it gets...</td>\n",
       "      <td>Corrie Ten Boom</td>\n",
       "      <td>Trust, Encouraging, Uplifting</td>\n",
       "    </tr>\n",
       "    <tr>\n",
       "      <th>997</th>\n",
       "      <td>God doesn't require us to succeed, he only req...</td>\n",
       "      <td>Mother Teresa</td>\n",
       "      <td>Success, God, Mother</td>\n",
       "    </tr>\n",
       "    <tr>\n",
       "      <th>998</th>\n",
       "      <td>If you think you are too small to make a diffe...</td>\n",
       "      <td>Dalai Lama</td>\n",
       "      <td>Inspirational, Funny, Change</td>\n",
       "    </tr>\n",
       "    <tr>\n",
       "      <th>999</th>\n",
       "      <td>Change your thoughts and you change your world.</td>\n",
       "      <td>Norman Vincent Peale</td>\n",
       "      <td>Inspirational, Motivational, Change</td>\n",
       "    </tr>\n",
       "  </tbody>\n",
       "</table>\n",
       "<p>1000 rows × 3 columns</p>\n",
       "</div>"
      ],
      "text/plain": [
       "                                                 Title                Author  \\\n",
       "0    The essence of strategy is choosing what not t...        Michael Porter   \n",
       "1    One cannot and must not try to erase the past ...            Golda Meir   \n",
       "2    Patriotism means to stand by the country. It d...    Theodore Roosevelt   \n",
       "3    Death is something inevitable. When a man has ...        Nelson Mandela   \n",
       "4    You have to love a nation that celebrates its ...          Erma Bombeck   \n",
       "..                                                 ...                   ...   \n",
       "995     When the going gets weird, the weird turn pro.    Hunter S. Thompson   \n",
       "996  When a train goes through a tunnel and it gets...       Corrie Ten Boom   \n",
       "997  God doesn't require us to succeed, he only req...         Mother Teresa   \n",
       "998  If you think you are too small to make a diffe...            Dalai Lama   \n",
       "999    Change your thoughts and you change your world.  Norman Vincent Peale   \n",
       "\n",
       "                                         Type  \n",
       "0    Essence, Deep Thought, Transcendentalism  \n",
       "1                   Inspiration, Past, Trying  \n",
       "2                         Country, Peace, War  \n",
       "3          Inspirational, Motivational, Death  \n",
       "4                4th Of July, Food, Patriotic  \n",
       "..                                        ...  \n",
       "995                    Music, Sports, Hunting  \n",
       "996             Trust, Encouraging, Uplifting  \n",
       "997                      Success, God, Mother  \n",
       "998              Inspirational, Funny, Change  \n",
       "999       Inspirational, Motivational, Change  \n",
       "\n",
       "[1000 rows x 3 columns]"
      ]
     },
     "execution_count": 19,
     "metadata": {},
     "output_type": "execute_result"
    }
   ],
   "source": [
    "df = pd.DataFrame({'Title':titles,'Author':author,'Type':type})\n",
    "df"
   ]
  },
  {
   "cell_type": "code",
   "execution_count": 20,
   "id": "50e3c2c0",
   "metadata": {},
   "outputs": [],
   "source": [
    "driver.close()"
   ]
  },
  {
   "cell_type": "markdown",
   "id": "97b176c9",
   "metadata": {},
   "source": [
    "#### Q10: Write s python program to display list of respected former Prime Ministers of India(i.e. Name, Born-Dead, Term of office, Remarks) from https://www.jagranjosh.com/.\n",
    "#### This task will be done in following steps:\n",
    "1. First get the webpage https://www.jagranjosh.com/\n",
    "2. Then You have to click on the GK option\n",
    "3. Then click on the List of all Prime Ministers of India\n",
    "4. Then scrap the mentioned data and make the DataFrame."
   ]
  },
  {
   "cell_type": "code",
   "execution_count": 39,
   "id": "c46448c0",
   "metadata": {},
   "outputs": [],
   "source": [
    "import selenium\n",
    "import pandas as pd\n",
    "from selenium import webdriver\n",
    "from selenium.webdriver.common.by import By\n",
    "import warnings\n",
    "warnings.filterwarnings(\"ignore\")\n",
    "import time"
   ]
  },
  {
   "cell_type": "code",
   "execution_count": 40,
   "id": "4617c76e",
   "metadata": {},
   "outputs": [],
   "source": [
    "driver = webdriver.Chrome(r\"C:\\Users\\HP\\Downloads\\chromedriver.exe\")"
   ]
  },
  {
   "cell_type": "code",
   "execution_count": 41,
   "id": "47375a41",
   "metadata": {},
   "outputs": [],
   "source": [
    "url=\"https://www.jagranjosh.com/\"\n",
    "driver.get(url)"
   ]
  },
  {
   "cell_type": "code",
   "execution_count": 42,
   "id": "014c7e3e",
   "metadata": {},
   "outputs": [],
   "source": [
    "gk=driver.find_element(By.XPATH,'/html/body/div/div[1]/div/div[1]/div/div[6]/div/div[1]/header/div[3]/ul/li[9]/a')\n",
    "gk.click()"
   ]
  },
  {
   "cell_type": "code",
   "execution_count": 43,
   "id": "96801a3d",
   "metadata": {},
   "outputs": [],
   "source": [
    "list_pm=driver.find_element(By.XPATH,'/html/body/div[1]/div/div/div[2]/div/div[10]/div/div/ul/li[2]/a')\n",
    "list_pm.click()"
   ]
  },
  {
   "cell_type": "code",
   "execution_count": 44,
   "id": "38ef98db",
   "metadata": {},
   "outputs": [],
   "source": [
    "sn=[]\n",
    "name=[]\n",
    "born_dead=[]\n",
    "term_of_office=[]\n",
    "remark=[]"
   ]
  },
  {
   "cell_type": "code",
   "execution_count": 45,
   "id": "f9033953",
   "metadata": {},
   "outputs": [],
   "source": [
    "#fetching all the elements and appending it in list\n",
    "df=driver.find_elements(By.XPATH,'//div[@class=\"table-box\"][1]/table/tbody/tr')\n",
    "lis=[]\n",
    "new=[]\n",
    "for i in df:\n",
    "    # formatting the strings and splitting in new line\n",
    "    li=i.text.split('\\n')\n",
    "    lis.append(li)"
   ]
  },
  {
   "cell_type": "code",
   "execution_count": 46,
   "id": "3e9aa521",
   "metadata": {},
   "outputs": [],
   "source": [
    "lis=lis[1:]"
   ]
  },
  {
   "cell_type": "code",
   "execution_count": 47,
   "id": "c5632630",
   "metadata": {},
   "outputs": [],
   "source": [
    "for i in lis:\n",
    "    # Appending serial numbers in sn\n",
    "    #Appending names in name\n",
    "    #Appending born-dead in born_dead\n",
    "    sn.append(i[0])\n",
    "    name.append(i[1])\n",
    "    born_dead.append(i[2])\n",
    "    # condition for appending in term_of_office and remark\n",
    "    if(len(i)==5):\n",
    "        term_of_office.append(i[3])\n",
    "        remark.append(i[4])\n",
    "    else:\n",
    "        term_of_office.append(i[3:5])\n",
    "        remark.append(i[5])"
   ]
  },
  {
   "cell_type": "code",
   "execution_count": 48,
   "id": "f168301e",
   "metadata": {},
   "outputs": [],
   "source": [
    "PRIME_MINISTERS=pd.DataFrame({\"SERIAL_NUMBER\":sn,\"NAME\":name,\"BORN-DEAD\":born_dead,\"TERM OF OFFICE\":term_of_office,\"REMARK\":remark})"
   ]
  },
  {
   "cell_type": "code",
   "execution_count": 49,
   "id": "e3fe0e62",
   "metadata": {},
   "outputs": [],
   "source": [
    "PRIME_MINISTERS.set_index(['SERIAL_NUMBER'],inplace=True)"
   ]
  },
  {
   "cell_type": "code",
   "execution_count": 50,
   "id": "a5a4a8b3",
   "metadata": {},
   "outputs": [
    {
     "data": {
      "text/html": [
       "<div>\n",
       "<style scoped>\n",
       "    .dataframe tbody tr th:only-of-type {\n",
       "        vertical-align: middle;\n",
       "    }\n",
       "\n",
       "    .dataframe tbody tr th {\n",
       "        vertical-align: top;\n",
       "    }\n",
       "\n",
       "    .dataframe thead th {\n",
       "        text-align: right;\n",
       "    }\n",
       "</style>\n",
       "<table border=\"1\" class=\"dataframe\">\n",
       "  <thead>\n",
       "    <tr style=\"text-align: right;\">\n",
       "      <th></th>\n",
       "      <th>NAME</th>\n",
       "      <th>BORN-DEAD</th>\n",
       "      <th>TERM OF OFFICE</th>\n",
       "      <th>REMARK</th>\n",
       "    </tr>\n",
       "    <tr>\n",
       "      <th>SERIAL_NUMBER</th>\n",
       "      <th></th>\n",
       "      <th></th>\n",
       "      <th></th>\n",
       "      <th></th>\n",
       "    </tr>\n",
       "  </thead>\n",
       "  <tbody>\n",
       "    <tr>\n",
       "      <th>1.</th>\n",
       "      <td>Jawahar Lal Nehru</td>\n",
       "      <td>(1889–1964)</td>\n",
       "      <td>[15 August 1947 to 27 May 1964, 16 years, 286 ...</td>\n",
       "      <td>The first prime minister of India and the long...</td>\n",
       "    </tr>\n",
       "    <tr>\n",
       "      <th>2.</th>\n",
       "      <td>Gulzarilal Nanda (Acting)</td>\n",
       "      <td>(1898-1998)</td>\n",
       "      <td>[27 May 1964 to 9 June 1964,, 13 days]</td>\n",
       "      <td>First acting PM of India</td>\n",
       "    </tr>\n",
       "    <tr>\n",
       "      <th>3.</th>\n",
       "      <td>Lal Bahadur Shastri</td>\n",
       "      <td>(1904–1966)</td>\n",
       "      <td>[9 June 1964 to 11 January 1966, 1 year, 216 d...</td>\n",
       "      <td>He has given the slogan of 'Jai Jawan Jai Kisa...</td>\n",
       "    </tr>\n",
       "    <tr>\n",
       "      <th>4.</th>\n",
       "      <td>Gulzari Lal Nanda  (Acting)</td>\n",
       "      <td>(1898-1998)</td>\n",
       "      <td>[11 January 1966 to 24 January 1966, 13 days]</td>\n",
       "      <td>-</td>\n",
       "    </tr>\n",
       "    <tr>\n",
       "      <th>5.</th>\n",
       "      <td>Indira Gandhi</td>\n",
       "      <td>(1917–1984)</td>\n",
       "      <td>[24 January 1966 to 24 March 1977, 11 years, 5...</td>\n",
       "      <td>First female Prime Minister of India</td>\n",
       "    </tr>\n",
       "    <tr>\n",
       "      <th>6.</th>\n",
       "      <td>Morarji Desai</td>\n",
       "      <td>(1896–1995)</td>\n",
       "      <td>[24 March 1977 to  28 July 1979 , 2 year, 126 ...</td>\n",
       "      <td>Oldest to become PM (81 years old) and first t...</td>\n",
       "    </tr>\n",
       "    <tr>\n",
       "      <th>7.</th>\n",
       "      <td>Charan Singh</td>\n",
       "      <td>(1902–1987)</td>\n",
       "      <td>[28 July 1979 to 14 January 1980, 170 days]</td>\n",
       "      <td>Only PM who did not face the Parliament</td>\n",
       "    </tr>\n",
       "    <tr>\n",
       "      <th>8.</th>\n",
       "      <td>Indira Gandhi</td>\n",
       "      <td>(1917–1984)</td>\n",
       "      <td>[14 January 1980 to 31 October 1984, 4 years, ...</td>\n",
       "      <td>The first lady who served as PM for the second...</td>\n",
       "    </tr>\n",
       "    <tr>\n",
       "      <th>9.</th>\n",
       "      <td>Rajiv Gandhi</td>\n",
       "      <td>(1944–1991)</td>\n",
       "      <td>[31 October 1984 to 2 December 1989, 5 years, ...</td>\n",
       "      <td>Youngest to become PM (40 years old)</td>\n",
       "    </tr>\n",
       "    <tr>\n",
       "      <th>10.</th>\n",
       "      <td>V. P. Singh</td>\n",
       "      <td>(1931–2008)</td>\n",
       "      <td>[2 December 1989 to 10 November 1990, 343 days]</td>\n",
       "      <td>First PM to step down after a vote of no confi...</td>\n",
       "    </tr>\n",
       "    <tr>\n",
       "      <th>11.</th>\n",
       "      <td>Chandra Shekhar</td>\n",
       "      <td>(1927–2007)</td>\n",
       "      <td>[10 November 1990 to 21 June 1991, 223 days]</td>\n",
       "      <td>He belongs to  Samajwadi Janata Party</td>\n",
       "    </tr>\n",
       "    <tr>\n",
       "      <th>12.</th>\n",
       "      <td>P. V. Narasimha Rao</td>\n",
       "      <td>(1921–2004)</td>\n",
       "      <td>[21 June 1991 to 16 May 1996, 4 years, 330 days]</td>\n",
       "      <td>First PM from south India</td>\n",
       "    </tr>\n",
       "    <tr>\n",
       "      <th>13.</th>\n",
       "      <td>Atal Bihari Vajpayee</td>\n",
       "      <td>(1924- 2018)</td>\n",
       "      <td>[16 May 1996 to 1 June 1996, 16 days]</td>\n",
       "      <td>PM for shortest tenure</td>\n",
       "    </tr>\n",
       "    <tr>\n",
       "      <th>14.</th>\n",
       "      <td>H. D. Deve Gowda</td>\n",
       "      <td>(born 1933)</td>\n",
       "      <td>[1 June 1996 to 21 April 1997, 324 days]</td>\n",
       "      <td>He belongs to  Janata Dal</td>\n",
       "    </tr>\n",
       "    <tr>\n",
       "      <th>15.</th>\n",
       "      <td>Inder Kumar Gujral</td>\n",
       "      <td>(1919–2012)</td>\n",
       "      <td>[21 April 1997 to 19 March 1998 , 332 days]</td>\n",
       "      <td>------</td>\n",
       "    </tr>\n",
       "    <tr>\n",
       "      <th>16.</th>\n",
       "      <td>Atal Bihari Vajpayee</td>\n",
       "      <td>(1924-2018)</td>\n",
       "      <td>[19 March 1998 to 22 May 2004 , 6 years, 64 days]</td>\n",
       "      <td>The first non-congress PM who completed a ful...</td>\n",
       "    </tr>\n",
       "    <tr>\n",
       "      <th>17.</th>\n",
       "      <td>Manmohan Singh</td>\n",
       "      <td>(born 1932)</td>\n",
       "      <td>[22 May 2004 to 26 May 2014   , 10 years, 4 days]</td>\n",
       "      <td>First Sikh PM</td>\n",
       "    </tr>\n",
       "    <tr>\n",
       "      <th>18.</th>\n",
       "      <td>Narendra Modi</td>\n",
       "      <td>(born 1950)</td>\n",
       "      <td>26 May 2014 - Present</td>\n",
       "      <td>4th Prime Minister of India who served two con...</td>\n",
       "    </tr>\n",
       "  </tbody>\n",
       "</table>\n",
       "</div>"
      ],
      "text/plain": [
       "                                      NAME     BORN-DEAD  \\\n",
       "SERIAL_NUMBER                                              \n",
       "1.                       Jawahar Lal Nehru   (1889–1964)   \n",
       "2.               Gulzarilal Nanda (Acting)   (1898-1998)   \n",
       "3.                     Lal Bahadur Shastri   (1904–1966)   \n",
       "4.             Gulzari Lal Nanda  (Acting)   (1898-1998)   \n",
       "5.                           Indira Gandhi   (1917–1984)   \n",
       "6.                           Morarji Desai   (1896–1995)   \n",
       "7.                            Charan Singh   (1902–1987)   \n",
       "8.                           Indira Gandhi   (1917–1984)   \n",
       "9.                            Rajiv Gandhi   (1944–1991)   \n",
       "10.                            V. P. Singh   (1931–2008)   \n",
       "11.                        Chandra Shekhar   (1927–2007)   \n",
       "12.                    P. V. Narasimha Rao   (1921–2004)   \n",
       "13.                   Atal Bihari Vajpayee  (1924- 2018)   \n",
       "14.                       H. D. Deve Gowda   (born 1933)   \n",
       "15.                     Inder Kumar Gujral   (1919–2012)   \n",
       "16.                   Atal Bihari Vajpayee   (1924-2018)   \n",
       "17.                         Manmohan Singh   (born 1932)   \n",
       "18.                          Narendra Modi   (born 1950)   \n",
       "\n",
       "                                                  TERM OF OFFICE  \\\n",
       "SERIAL_NUMBER                                                      \n",
       "1.             [15 August 1947 to 27 May 1964, 16 years, 286 ...   \n",
       "2.                        [27 May 1964 to 9 June 1964,, 13 days]   \n",
       "3.             [9 June 1964 to 11 January 1966, 1 year, 216 d...   \n",
       "4.                 [11 January 1966 to 24 January 1966, 13 days]   \n",
       "5.             [24 January 1966 to 24 March 1977, 11 years, 5...   \n",
       "6.             [24 March 1977 to  28 July 1979 , 2 year, 126 ...   \n",
       "7.                   [28 July 1979 to 14 January 1980, 170 days]   \n",
       "8.             [14 January 1980 to 31 October 1984, 4 years, ...   \n",
       "9.             [31 October 1984 to 2 December 1989, 5 years, ...   \n",
       "10.              [2 December 1989 to 10 November 1990, 343 days]   \n",
       "11.                 [10 November 1990 to 21 June 1991, 223 days]   \n",
       "12.             [21 June 1991 to 16 May 1996, 4 years, 330 days]   \n",
       "13.                        [16 May 1996 to 1 June 1996, 16 days]   \n",
       "14.                     [1 June 1996 to 21 April 1997, 324 days]   \n",
       "15.                  [21 April 1997 to 19 March 1998 , 332 days]   \n",
       "16.            [19 March 1998 to 22 May 2004 , 6 years, 64 days]   \n",
       "17.            [22 May 2004 to 26 May 2014   , 10 years, 4 days]   \n",
       "18.                                        26 May 2014 - Present   \n",
       "\n",
       "                                                          REMARK  \n",
       "SERIAL_NUMBER                                                     \n",
       "1.             The first prime minister of India and the long...  \n",
       "2.                                      First acting PM of India  \n",
       "3.             He has given the slogan of 'Jai Jawan Jai Kisa...  \n",
       "4.                                                             -  \n",
       "5.                          First female Prime Minister of India  \n",
       "6.             Oldest to become PM (81 years old) and first t...  \n",
       "7.                       Only PM who did not face the Parliament  \n",
       "8.             The first lady who served as PM for the second...  \n",
       "9.                          Youngest to become PM (40 years old)  \n",
       "10.            First PM to step down after a vote of no confi...  \n",
       "11.                        He belongs to  Samajwadi Janata Party  \n",
       "12.                                    First PM from south India  \n",
       "13.                                       PM for shortest tenure  \n",
       "14.                                    He belongs to  Janata Dal  \n",
       "15.                                                       ------  \n",
       "16.             The first non-congress PM who completed a ful...  \n",
       "17.                                                First Sikh PM  \n",
       "18.            4th Prime Minister of India who served two con...  "
      ]
     },
     "execution_count": 50,
     "metadata": {},
     "output_type": "execute_result"
    }
   ],
   "source": [
    "PRIME_MINISTERS"
   ]
  },
  {
   "cell_type": "code",
   "execution_count": 51,
   "id": "5fae83f7",
   "metadata": {},
   "outputs": [],
   "source": [
    "driver.close()"
   ]
  },
  {
   "cell_type": "markdown",
   "id": "9a67982c",
   "metadata": {},
   "source": [
    "#### Q11: Write s python program to display list of 50 Most expensive cars in the world (i.e. Company name, Model name and Price) from https://www.motor1.com/\n",
    "#### This task will be done in following steps:\n",
    "1. First get the webpage https://www.motor1.com/\n",
    "2. Then You have to click on the List option from Dropdown menu on left side.\n",
    "3. Then click on 50 most expensive cars in the world..\n",
    "4. Then scrap the mentioned data and make the data frame"
   ]
  },
  {
   "cell_type": "code",
   "execution_count": 52,
   "id": "6ea0d77e",
   "metadata": {},
   "outputs": [],
   "source": [
    "driver = webdriver.Chrome(r\"C:\\Users\\HP\\Downloads\\chromedriver.exe\")"
   ]
  },
  {
   "cell_type": "code",
   "execution_count": 53,
   "id": "7ac1f700",
   "metadata": {},
   "outputs": [],
   "source": [
    "url=\"https://www.motor1.com/\"\n",
    "driver.get(url)"
   ]
  },
  {
   "cell_type": "code",
   "execution_count": 55,
   "id": "bcf318c3",
   "metadata": {},
   "outputs": [],
   "source": [
    "menu=driver.find_element(By.XPATH,'//div[@class=\"m1-hamburger-button\"]')\n",
    "menu.click()"
   ]
  },
  {
   "cell_type": "code",
   "execution_count": 58,
   "id": "988ca818",
   "metadata": {},
   "outputs": [],
   "source": [
    "listy=driver.find_element(By.XPATH,'/html/body/div[3]/div[1]/div[3]/ul/li[4]/a')\n"
   ]
  },
  {
   "cell_type": "code",
   "execution_count": 61,
   "id": "9afac0f2",
   "metadata": {},
   "outputs": [],
   "source": [
    "expansiv=driver.find_element(By.XPATH,\"//div[@class='text-box']/h3/a[contains(@href,'-new-cars-ever')]\")"
   ]
  },
  {
   "cell_type": "code",
   "execution_count": 62,
   "id": "122b2708",
   "metadata": {},
   "outputs": [],
   "source": [
    "expansiv.click()"
   ]
  },
  {
   "cell_type": "code",
   "execution_count": 63,
   "id": "1984a2f5",
   "metadata": {},
   "outputs": [],
   "source": [
    "import re\n",
    "name_car=[]\n",
    "price_car=[]\n",
    "# ------appending name of car in name_car and price of car in price_car and using string formatting-----\n",
    "car=driver.find_elements(By.XPATH,\"/html/body/div[2]/div[7]/div[2]/div[1]/div[2]/div[1]/ul/li\")\n",
    "for i in car:\n",
    "    # formatting strings using replace and split\n",
    "    ele=i.text.replace('-','').replace(':','').split('$')\n",
    "    name_car.append(ele[0])\n",
    "    price_car.append(ele[1])"
   ]
  },
  {
   "cell_type": "code",
   "execution_count": 64,
   "id": "b7a067eb",
   "metadata": {},
   "outputs": [
    {
     "data": {
      "text/html": [
       "<div>\n",
       "<style scoped>\n",
       "    .dataframe tbody tr th:only-of-type {\n",
       "        vertical-align: middle;\n",
       "    }\n",
       "\n",
       "    .dataframe tbody tr th {\n",
       "        vertical-align: top;\n",
       "    }\n",
       "\n",
       "    .dataframe thead th {\n",
       "        text-align: right;\n",
       "    }\n",
       "</style>\n",
       "<table border=\"1\" class=\"dataframe\">\n",
       "  <thead>\n",
       "    <tr style=\"text-align: right;\">\n",
       "      <th></th>\n",
       "      <th>NAME OF THE CAR</th>\n",
       "      <th>PRICE OF THE CAR IN ($)</th>\n",
       "    </tr>\n",
       "  </thead>\n",
       "  <tbody>\n",
       "    <tr>\n",
       "      <th>0</th>\n",
       "      <td>Drako GTE</td>\n",
       "      <td>1.2 Million</td>\n",
       "    </tr>\n",
       "    <tr>\n",
       "      <th>1</th>\n",
       "      <td>DeTomaso P72</td>\n",
       "      <td>1.3 Million</td>\n",
       "    </tr>\n",
       "    <tr>\n",
       "      <th>2</th>\n",
       "      <td>Ferrari LaFerrari</td>\n",
       "      <td>1.4 Million</td>\n",
       "    </tr>\n",
       "    <tr>\n",
       "      <th>3</th>\n",
       "      <td>Pagani Huayra</td>\n",
       "      <td>1.4 Million</td>\n",
       "    </tr>\n",
       "    <tr>\n",
       "      <th>4</th>\n",
       "      <td>Czinger 21C</td>\n",
       "      <td>1.7 Million</td>\n",
       "    </tr>\n",
       "    <tr>\n",
       "      <th>5</th>\n",
       "      <td>Ferrari Monza</td>\n",
       "      <td>1.7 Million</td>\n",
       "    </tr>\n",
       "    <tr>\n",
       "      <th>6</th>\n",
       "      <td>Gordon Murray T.33</td>\n",
       "      <td>1.7 Million</td>\n",
       "    </tr>\n",
       "    <tr>\n",
       "      <th>7</th>\n",
       "      <td>Koenigsegg Gemera</td>\n",
       "      <td>1.7 Million</td>\n",
       "    </tr>\n",
       "    <tr>\n",
       "      <th>8</th>\n",
       "      <td>McLaren Elva</td>\n",
       "      <td>1.7 Million</td>\n",
       "    </tr>\n",
       "    <tr>\n",
       "      <th>9</th>\n",
       "      <td>Zenvo TSRS</td>\n",
       "      <td>1.7 Million</td>\n",
       "    </tr>\n",
       "    <tr>\n",
       "      <th>10</th>\n",
       "      <td>Hennessey Venom F5</td>\n",
       "      <td>1.8 Million</td>\n",
       "    </tr>\n",
       "    <tr>\n",
       "      <th>11</th>\n",
       "      <td>Bentley Bacalar</td>\n",
       "      <td>1.9 Million</td>\n",
       "    </tr>\n",
       "    <tr>\n",
       "      <th>12</th>\n",
       "      <td>Hispano Suiza Carmen Boulogne</td>\n",
       "      <td>1.9 Million</td>\n",
       "    </tr>\n",
       "    <tr>\n",
       "      <th>13</th>\n",
       "      <td>Bentley Mulliner Batur</td>\n",
       "      <td>2.0 Million</td>\n",
       "    </tr>\n",
       "    <tr>\n",
       "      <th>14</th>\n",
       "      <td>Deus Vayanne</td>\n",
       "      <td>2.0 Million</td>\n",
       "    </tr>\n",
       "    <tr>\n",
       "      <th>15</th>\n",
       "      <td>SSC Tuatara</td>\n",
       "      <td>2.0 Million*</td>\n",
       "    </tr>\n",
       "    <tr>\n",
       "      <th>16</th>\n",
       "      <td>Lotus Evija</td>\n",
       "      <td>2.1 Million</td>\n",
       "    </tr>\n",
       "    <tr>\n",
       "      <th>17</th>\n",
       "      <td>Aston Martin Vulcan</td>\n",
       "      <td>2.3 Million</td>\n",
       "    </tr>\n",
       "    <tr>\n",
       "      <th>18</th>\n",
       "      <td>Delage D12</td>\n",
       "      <td>2.3 Million</td>\n",
       "    </tr>\n",
       "    <tr>\n",
       "      <th>19</th>\n",
       "      <td>McLaren Speedtail</td>\n",
       "      <td>2.3 Million</td>\n",
       "    </tr>\n",
       "    <tr>\n",
       "      <th>20</th>\n",
       "      <td>Rimac Nevera</td>\n",
       "      <td>2.4 Million</td>\n",
       "    </tr>\n",
       "    <tr>\n",
       "      <th>21</th>\n",
       "      <td>Pagani Utopia</td>\n",
       "      <td>2.5 Million</td>\n",
       "    </tr>\n",
       "    <tr>\n",
       "      <th>22</th>\n",
       "      <td>Pininfarina Battista</td>\n",
       "      <td>2.5 Million</td>\n",
       "    </tr>\n",
       "    <tr>\n",
       "      <th>23</th>\n",
       "      <td>Ferrari FXX K Evo</td>\n",
       "      <td>2.6 Million</td>\n",
       "    </tr>\n",
       "    <tr>\n",
       "      <th>24</th>\n",
       "      <td>Gordon Murray T.50</td>\n",
       "      <td>2.6 Million</td>\n",
       "    </tr>\n",
       "    <tr>\n",
       "      <th>25</th>\n",
       "      <td>Lamborghini Countach</td>\n",
       "      <td>2.6 Million</td>\n",
       "    </tr>\n",
       "    <tr>\n",
       "      <th>26</th>\n",
       "      <td>MercedesAMG Project One</td>\n",
       "      <td>2.7 Million</td>\n",
       "    </tr>\n",
       "    <tr>\n",
       "      <th>27</th>\n",
       "      <td>Aston Martin Victor</td>\n",
       "      <td>3.0 Million</td>\n",
       "    </tr>\n",
       "    <tr>\n",
       "      <th>28</th>\n",
       "      <td>Hennessey Venom F5 Roadster</td>\n",
       "      <td>3.0 Million</td>\n",
       "    </tr>\n",
       "    <tr>\n",
       "      <th>29</th>\n",
       "      <td>Koenigsegg Jesko</td>\n",
       "      <td>3.0 Million</td>\n",
       "    </tr>\n",
       "    <tr>\n",
       "      <th>30</th>\n",
       "      <td>Aston Martin Valkyrie</td>\n",
       "      <td>3.2 Million</td>\n",
       "    </tr>\n",
       "    <tr>\n",
       "      <th>31</th>\n",
       "      <td>W Motors Lykan Hypersport</td>\n",
       "      <td>3.4 Million</td>\n",
       "    </tr>\n",
       "    <tr>\n",
       "      <th>32</th>\n",
       "      <td>McLaren Solus</td>\n",
       "      <td>3.5 Million</td>\n",
       "    </tr>\n",
       "    <tr>\n",
       "      <th>33</th>\n",
       "      <td>Pagani Huayra Roadster BC</td>\n",
       "      <td>3.5 Million</td>\n",
       "    </tr>\n",
       "    <tr>\n",
       "      <th>34</th>\n",
       "      <td>Bugatti Chiron Pur Sport</td>\n",
       "      <td>3.6 Million</td>\n",
       "    </tr>\n",
       "    <tr>\n",
       "      <th>35</th>\n",
       "      <td>Lamborghini Sian</td>\n",
       "      <td>3.6 million</td>\n",
       "    </tr>\n",
       "    <tr>\n",
       "      <th>36</th>\n",
       "      <td>Koenigsegg CC850</td>\n",
       "      <td>3.7 Million</td>\n",
       "    </tr>\n",
       "    <tr>\n",
       "      <th>37</th>\n",
       "      <td>Bugatti Chiron Super Sport 300+</td>\n",
       "      <td>3.9 Million</td>\n",
       "    </tr>\n",
       "    <tr>\n",
       "      <th>38</th>\n",
       "      <td>Lamborghini Veneno</td>\n",
       "      <td>4.5 Million</td>\n",
       "    </tr>\n",
       "    <tr>\n",
       "      <th>39</th>\n",
       "      <td>Bugatti Bolide</td>\n",
       "      <td>4.7 Million</td>\n",
       "    </tr>\n",
       "    <tr>\n",
       "      <th>40</th>\n",
       "      <td>Bugatti Mistral</td>\n",
       "      <td>5.0 Million</td>\n",
       "    </tr>\n",
       "    <tr>\n",
       "      <th>41</th>\n",
       "      <td>Pagani Huayra Imola</td>\n",
       "      <td>5.4 Million</td>\n",
       "    </tr>\n",
       "    <tr>\n",
       "      <th>42</th>\n",
       "      <td>Bugatti Divo</td>\n",
       "      <td>5.8 Million</td>\n",
       "    </tr>\n",
       "    <tr>\n",
       "      <th>43</th>\n",
       "      <td>SP Automotive Chaos</td>\n",
       "      <td>6.4 Million</td>\n",
       "    </tr>\n",
       "    <tr>\n",
       "      <th>44</th>\n",
       "      <td>Pagani Codalunga</td>\n",
       "      <td>7.4 Million</td>\n",
       "    </tr>\n",
       "    <tr>\n",
       "      <th>45</th>\n",
       "      <td>MercedesMaybach Exelero</td>\n",
       "      <td>8.0 Million</td>\n",
       "    </tr>\n",
       "    <tr>\n",
       "      <th>46</th>\n",
       "      <td>Bugatti Centodieci</td>\n",
       "      <td>9.0 Million</td>\n",
       "    </tr>\n",
       "    <tr>\n",
       "      <th>47</th>\n",
       "      <td>RollsRoyce Sweptail</td>\n",
       "      <td>12.8 Million</td>\n",
       "    </tr>\n",
       "    <tr>\n",
       "      <th>48</th>\n",
       "      <td>Bugatti La Voiture Noire</td>\n",
       "      <td>13.4 Million</td>\n",
       "    </tr>\n",
       "    <tr>\n",
       "      <th>49</th>\n",
       "      <td>RollsRoyce Boat Tail</td>\n",
       "      <td>28.0 Million*</td>\n",
       "    </tr>\n",
       "  </tbody>\n",
       "</table>\n",
       "</div>"
      ],
      "text/plain": [
       "                      NAME OF THE CAR PRICE OF THE CAR IN ($)\n",
       "0                         Drako GTE               1.2 Million\n",
       "1                       DeTomaso P72              1.3 Million\n",
       "2                 Ferrari LaFerrari               1.4 Million\n",
       "3                     Pagani Huayra               1.4 Million\n",
       "4                       Czinger 21C               1.7 Million\n",
       "5                     Ferrari Monza               1.7 Million\n",
       "6                Gordon Murray T.33               1.7 Million\n",
       "7                 Koenigsegg Gemera               1.7 Million\n",
       "8                      McLaren Elva               1.7 Million\n",
       "9                        Zenvo TSRS               1.7 Million\n",
       "10               Hennessey Venom F5               1.8 Million\n",
       "11                  Bentley Bacalar               1.9 Million\n",
       "12     Hispano Suiza Carmen Boulogne              1.9 Million\n",
       "13            Bentley Mulliner Batur              2.0 Million\n",
       "14                      Deus Vayanne              2.0 Million\n",
       "15                      SSC Tuatara              2.0 Million*\n",
       "16                      Lotus Evija               2.1 Million\n",
       "17              Aston Martin Vulcan               2.3 Million\n",
       "18                        Delage D12              2.3 Million\n",
       "19                McLaren Speedtail               2.3 Million\n",
       "20                     Rimac Nevera               2.4 Million\n",
       "21                     Pagani Utopia              2.5 Million\n",
       "22             Pininfarina Battista               2.5 Million\n",
       "23                Ferrari FXX K Evo               2.6 Million\n",
       "24               Gordon Murray T.50               2.6 Million\n",
       "25             Lamborghini Countach               2.6 Million\n",
       "26          MercedesAMG Project One               2.7 Million\n",
       "27              Aston Martin Victor               3.0 Million\n",
       "28       Hennessey Venom F5 Roadster              3.0 Million\n",
       "29                 Koenigsegg Jesko               3.0 Million\n",
       "30            Aston Martin Valkyrie               3.2 Million\n",
       "31        W Motors Lykan Hypersport               3.4 Million\n",
       "32                     McLaren Solus              3.5 Million\n",
       "33        Pagani Huayra Roadster BC               3.5 Million\n",
       "34         Bugatti Chiron Pur Sport               3.6 Million\n",
       "35                 Lamborghini Sian               3.6 million\n",
       "36                  Koenigsegg CC850              3.7 Million\n",
       "37  Bugatti Chiron Super Sport 300+               3.9 Million\n",
       "38               Lamborghini Veneno               4.5 Million\n",
       "39                   Bugatti Bolide               4.7 Million\n",
       "40                   Bugatti Mistral              5.0 Million\n",
       "41               Pagani Huayra Imola              5.4 Million\n",
       "42                     Bugatti Divo               5.8 Million\n",
       "43              SP Automotive Chaos               6.4 Million\n",
       "44                  Pagani Codalunga              7.4 Million\n",
       "45          MercedesMaybach Exelero               8.0 Million\n",
       "46               Bugatti Centodieci               9.0 Million\n",
       "47              RollsRoyce Sweptail              12.8 Million\n",
       "48         Bugatti La Voiture Noire              13.4 Million\n",
       "49             RollsRoyce Boat Tail             28.0 Million*"
      ]
     },
     "execution_count": 64,
     "metadata": {},
     "output_type": "execute_result"
    }
   ],
   "source": [
    "most_expensive=pd.DataFrame({\"NAME OF THE CAR\":name_car,\"PRICE OF THE CAR IN ($)\":price_car})\n",
    "most_expensive"
   ]
  },
  {
   "cell_type": "code",
   "execution_count": 65,
   "id": "2a9b19f9",
   "metadata": {},
   "outputs": [],
   "source": [
    "driver.close()"
   ]
  },
  {
   "cell_type": "code",
   "execution_count": null,
   "id": "519795b9",
   "metadata": {},
   "outputs": [],
   "source": []
  }
 ],
 "metadata": {
  "kernelspec": {
   "display_name": "Python 3 (ipykernel)",
   "language": "python",
   "name": "python3"
  },
  "language_info": {
   "codemirror_mode": {
    "name": "ipython",
    "version": 3
   },
   "file_extension": ".py",
   "mimetype": "text/x-python",
   "name": "python",
   "nbconvert_exporter": "python",
   "pygments_lexer": "ipython3",
   "version": "3.9.12"
  }
 },
 "nbformat": 4,
 "nbformat_minor": 5
}
